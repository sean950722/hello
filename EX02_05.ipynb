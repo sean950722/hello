{
  "nbformat": 4,
  "nbformat_minor": 0,
  "metadata": {
    "colab": {
      "provenance": [],
      "authorship_tag": "ABX9TyPAaXd15Psg08CF5yFmTkrA",
      "include_colab_link": true
    },
    "kernelspec": {
      "name": "python3",
      "display_name": "Python 3"
    },
    "language_info": {
      "name": "python"
    }
  },
  "cells": [
    {
      "cell_type": "markdown",
      "metadata": {
        "id": "view-in-github",
        "colab_type": "text"
      },
      "source": [
        "<a href=\"https://colab.research.google.com/github/sean950722/hello/blob/main/EX02_05.ipynb\" target=\"_parent\"><img src=\"https://colab.research.google.com/assets/colab-badge.svg\" alt=\"Open In Colab\"/></a>"
      ]
    },
    {
      "cell_type": "code",
      "execution_count": null,
      "metadata": {
        "id": "sNg7Lr0lUQvi",
        "colab": {
          "base_uri": "https://localhost:8080/"
        },
        "outputId": "23d48c92-17cd-424a-f88d-cb77f41b1b0b"
      },
      "outputs": [
        {
          "output_type": "execute_result",
          "data": {
            "text/plain": [
              "200"
            ]
          },
          "metadata": {},
          "execution_count": 1
        }
      ],
      "source": [
        "import requests\n",
        "from bs4 import BeautifulSoup\n",
        "\n",
        "url = 'https://www.ptt.cc/bbs/Movie/index.html'\n",
        "response = requests.get(url)\n",
        "response.status_code"
      ]
    },
    {
      "cell_type": "code",
      "source": [
        "soup = BeautifulSoup(response.text, 'lxml')\n",
        "soup.title"
      ],
      "metadata": {
        "colab": {
          "base_uri": "https://localhost:8080/"
        },
        "id": "v_txIaXEiutW",
        "outputId": "1b13e1de-ff59-4e42-ada0-7db76d6a1af4"
      },
      "execution_count": null,
      "outputs": [
        {
          "output_type": "execute_result",
          "data": {
            "text/plain": [
              "<title>看板 movie 文章列表 - 批踢踢實業坊</title>"
            ]
          },
          "metadata": {},
          "execution_count": 2
        }
      ]
    },
    {
      "cell_type": "code",
      "source": [
        "for atcl in soup.find_all('div', class_='r-ent'):\n",
        "  ttle = atcl.find('div', class_='title').a.text\n",
        "  href = 'http://www.ptt.cc' + atcl.find('div', class_='title').a.get('href')\n",
        "  date = atcl.find('div', class_='date').text\n",
        "  print(date,href,ttle)"
      ],
      "metadata": {
        "colab": {
          "base_uri": "https://localhost:8080/",
          "height": 474
        },
        "id": "t46Cgy_Ti5QQ",
        "outputId": "2618be1f-1fa5-447d-bff4-86c2f96963bb"
      },
      "execution_count": null,
      "outputs": [
        {
          "output_type": "stream",
          "name": "stdout",
          "text": [
            " 4/27 http://www.ptt.cc/bbs/movie/M.1745718306.A.C55.html [請益] 揪人4/27看<再見機器人>\n",
            " 4/27 http://www.ptt.cc/bbs/movie/M.1745723652.A.FE0.html 好雷 新幹線驚爆倒數\n",
            " 4/27 http://www.ptt.cc/bbs/movie/M.1745732447.A.4D1.html [微好雷] 取精急轉彎  小品佳作\n",
            " 4/27 http://www.ptt.cc/bbs/movie/M.1745742844.A.967.html [新聞] 傳梁朝偉周潤發演《九龍城寨》 古天樂透\n",
            " 4/27 http://www.ptt.cc/bbs/movie/M.1745743646.A.3B6.html [雷] 十一人賊軍\n",
            " 4/27 http://www.ptt.cc/bbs/movie/M.1745745765.A.C39.html [負雷] 緋紅女巫新片「評估」:低能左派負面思想\n",
            " 4/27 http://www.ptt.cc/bbs/movie/M.1745745998.A.E64.html 普雷 新幹線驚爆倒數\n",
            " 4/27 http://www.ptt.cc/bbs/movie/M.1745752392.A.944.html [討論] 為何好萊塢電影台灣能先看？\n",
            " 4/27 http://www.ptt.cc/bbs/movie/M.1745753365.A.DB7.html [新聞] 本周新片北美全面撲街，罪人蟬聯冠軍\n",
            " 4/27 http://www.ptt.cc/bbs/movie/M.1745755808.A.8F1.html [負雷] 屠殺疑案(印)\n",
            " 4/27 http://www.ptt.cc/bbs/movie/M.1745757831.A.24D.html [爽微雷] 《直到黎明》沒記憶點的無腦爽片\n",
            " 4/27 http://www.ptt.cc/bbs/movie/M.1745758337.A.67E.html [LIVE] 緯來電影 21:00 陰陽鎮怪談\n",
            " 4/27 http://www.ptt.cc/bbs/movie/M.1745760893.A.404.html [討論] 常看到但沒主角相的演員\n"
          ]
        },
        {
          "output_type": "error",
          "ename": "AttributeError",
          "evalue": "'NoneType' object has no attribute 'text'",
          "traceback": [
            "\u001b[0;31m---------------------------------------------------------------------------\u001b[0m",
            "\u001b[0;31mAttributeError\u001b[0m                            Traceback (most recent call last)",
            "\u001b[0;32m<ipython-input-14-9bf6a90b2b19>\u001b[0m in \u001b[0;36m<cell line: 0>\u001b[0;34m()\u001b[0m\n\u001b[1;32m      1\u001b[0m \u001b[0;32mfor\u001b[0m \u001b[0matcl\u001b[0m \u001b[0;32min\u001b[0m \u001b[0msoup\u001b[0m\u001b[0;34m.\u001b[0m\u001b[0mfind_all\u001b[0m\u001b[0;34m(\u001b[0m\u001b[0;34m'div'\u001b[0m\u001b[0;34m,\u001b[0m \u001b[0mclass_\u001b[0m\u001b[0;34m=\u001b[0m\u001b[0;34m'r-ent'\u001b[0m\u001b[0;34m)\u001b[0m\u001b[0;34m:\u001b[0m\u001b[0;34m\u001b[0m\u001b[0;34m\u001b[0m\u001b[0m\n\u001b[0;32m----> 2\u001b[0;31m   \u001b[0mttle\u001b[0m \u001b[0;34m=\u001b[0m \u001b[0matcl\u001b[0m\u001b[0;34m.\u001b[0m\u001b[0mfind\u001b[0m\u001b[0;34m(\u001b[0m\u001b[0;34m'div'\u001b[0m\u001b[0;34m,\u001b[0m \u001b[0mclass_\u001b[0m\u001b[0;34m=\u001b[0m\u001b[0;34m'title'\u001b[0m\u001b[0;34m)\u001b[0m\u001b[0;34m.\u001b[0m\u001b[0ma\u001b[0m\u001b[0;34m.\u001b[0m\u001b[0mtext\u001b[0m\u001b[0;34m\u001b[0m\u001b[0;34m\u001b[0m\u001b[0m\n\u001b[0m\u001b[1;32m      3\u001b[0m   \u001b[0mhref\u001b[0m \u001b[0;34m=\u001b[0m \u001b[0;34m'http://www.ptt.cc'\u001b[0m \u001b[0;34m+\u001b[0m \u001b[0matcl\u001b[0m\u001b[0;34m.\u001b[0m\u001b[0mfind\u001b[0m\u001b[0;34m(\u001b[0m\u001b[0;34m'div'\u001b[0m\u001b[0;34m,\u001b[0m \u001b[0mclass_\u001b[0m\u001b[0;34m=\u001b[0m\u001b[0;34m'title'\u001b[0m\u001b[0;34m)\u001b[0m\u001b[0;34m.\u001b[0m\u001b[0ma\u001b[0m\u001b[0;34m.\u001b[0m\u001b[0mget\u001b[0m\u001b[0;34m(\u001b[0m\u001b[0;34m'href'\u001b[0m\u001b[0;34m)\u001b[0m\u001b[0;34m\u001b[0m\u001b[0;34m\u001b[0m\u001b[0m\n\u001b[1;32m      4\u001b[0m   \u001b[0mdate\u001b[0m \u001b[0;34m=\u001b[0m \u001b[0matcl\u001b[0m\u001b[0;34m.\u001b[0m\u001b[0mfind\u001b[0m\u001b[0;34m(\u001b[0m\u001b[0;34m'div'\u001b[0m\u001b[0;34m,\u001b[0m \u001b[0mclass_\u001b[0m\u001b[0;34m=\u001b[0m\u001b[0;34m'date'\u001b[0m\u001b[0;34m)\u001b[0m\u001b[0;34m.\u001b[0m\u001b[0mtext\u001b[0m\u001b[0;34m\u001b[0m\u001b[0;34m\u001b[0m\u001b[0m\n\u001b[1;32m      5\u001b[0m   \u001b[0mprint\u001b[0m\u001b[0;34m(\u001b[0m\u001b[0mdate\u001b[0m\u001b[0;34m,\u001b[0m\u001b[0mhref\u001b[0m\u001b[0;34m,\u001b[0m\u001b[0mttle\u001b[0m\u001b[0;34m)\u001b[0m\u001b[0;34m\u001b[0m\u001b[0;34m\u001b[0m\u001b[0m\n",
            "\u001b[0;31mAttributeError\u001b[0m: 'NoneType' object has no attribute 'text'"
          ]
        }
      ]
    },
    {
      "cell_type": "code",
      "source": [
        "'http://www.ptt.cc' + soup.find_all('a', class_='btn wide')[1].get('href')"
      ],
      "metadata": {
        "colab": {
          "base_uri": "https://localhost:8080/",
          "height": 35
        },
        "id": "mhSF_t-clWZX",
        "outputId": "5a4d5d60-fad0-4625-bde5-9b610e208cee"
      },
      "execution_count": null,
      "outputs": [
        {
          "output_type": "execute_result",
          "data": {
            "text/plain": [
              "'http://www.ptt.cc/bbs/movie/index10576.html'"
            ],
            "application/vnd.google.colaboratory.intrinsic+json": {
              "type": "string"
            }
          },
          "metadata": {},
          "execution_count": 13
        }
      ]
    },
    {
      "cell_type": "markdown",
      "source": [
        " 電影版5篇\n",
        "\n"
      ],
      "metadata": {
        "id": "oqhVwfF2oQqi"
      }
    },
    {
      "cell_type": "code",
      "source": [
        "def get_articles(url):\n",
        "  response = requests.get(url)\n",
        "  soup = BeautifulSoup(response.text, 'lxml')\n",
        "  for atcl in soup.find_all('div', class_='r-ent'):\n",
        "    if atcl.find('div', class_='title').a:\n",
        "      ttle = atcl.find('div', class_='title').a.text\n",
        "      href ='http://www.ptt.cc' + atcl.find('div',class_='title').a.get('href')\n",
        "    else:\n",
        "      ttle = atcl.find('div', class_='title').text.strip()\n",
        "      href = ''\n",
        "    date = atcl.find('div', class_='date').text\n",
        "    print(date,href,ttle)\n",
        "  url = 'http://www.ptt.cc'+ soup.find_all('a',class_='btn wide')[1].get('href')\n",
        "  return url\n",
        "\n",
        "url = 'http://www.ptt.cc/bbs/Movie/index.html'\n",
        "for i in range(5):\n",
        "  url = get_articles(url  )"
      ],
      "metadata": {
        "colab": {
          "base_uri": "https://localhost:8080/"
        },
        "id": "_mzFGFXUlr9a",
        "outputId": "f4c720c2-a661-4cbf-d4ab-94ac2044a71f"
      },
      "execution_count": null,
      "outputs": [
        {
          "output_type": "stream",
          "name": "stdout",
          "text": [
            " 4/27 http://www.ptt.cc/bbs/movie/M.1745718306.A.C55.html [請益] 揪人4/27看<再見機器人>\n",
            " 4/27 http://www.ptt.cc/bbs/movie/M.1745723652.A.FE0.html 好雷 新幹線驚爆倒數\n",
            " 4/27 http://www.ptt.cc/bbs/movie/M.1745732447.A.4D1.html [微好雷] 取精急轉彎  小品佳作\n",
            " 4/27 http://www.ptt.cc/bbs/movie/M.1745742844.A.967.html [新聞] 傳梁朝偉周潤發演《九龍城寨》 古天樂透\n",
            " 4/27 http://www.ptt.cc/bbs/movie/M.1745743646.A.3B6.html [雷] 十一人賊軍\n",
            " 4/27 http://www.ptt.cc/bbs/movie/M.1745745765.A.C39.html [負雷] 緋紅女巫新片「評估」:低能左派負面思想\n",
            " 4/27 http://www.ptt.cc/bbs/movie/M.1745745998.A.E64.html 普雷 新幹線驚爆倒數\n",
            " 4/27 http://www.ptt.cc/bbs/movie/M.1745752392.A.944.html [討論] 為何好萊塢電影台灣能先看？\n",
            " 4/27 http://www.ptt.cc/bbs/movie/M.1745753365.A.DB7.html [新聞] 本周新片北美全面撲街，罪人蟬聯冠軍\n",
            " 4/27 http://www.ptt.cc/bbs/movie/M.1745755808.A.8F1.html [負雷] 屠殺疑案(印)\n",
            " 4/27 http://www.ptt.cc/bbs/movie/M.1745757831.A.24D.html [爽微雷] 《直到黎明》沒記憶點的無腦爽片\n",
            " 4/27 http://www.ptt.cc/bbs/movie/M.1745758337.A.67E.html [LIVE] 緯來電影 21:00 陰陽鎮怪談\n",
            " 4/27 http://www.ptt.cc/bbs/movie/M.1745760893.A.404.html [討論] 常看到但沒主角相的演員\n",
            " 4/27  (本文已被刪除) [XDGEE]\n",
            " 4/27 http://www.ptt.cc/bbs/movie/M.1745761305.A.58D.html [新聞] 湯姆漢克斯回歸《怒海戰艦》續集！明年開\n",
            " 4/27 http://www.ptt.cc/bbs/movie/M.1745761357.A.DD8.html [新聞]《超人》《驚奇4超人》暑假上映！漫威DC大\n",
            " 4/27 http://www.ptt.cc/bbs/movie/M.1745762272.A.106.html [新聞]<罪人>到底講了什麼中文？劇組揭背景故事\n",
            " 9/04 http://www.ptt.cc/bbs/movie/M.1630756788.A.1FE.html [公告] 電影板板規 2022/12/5\n",
            " 9/15 http://www.ptt.cc/bbs/movie/M.1694784041.A.89F.html [公告] 禁政治版規 及 投票結果\n",
            " 4/26 http://www.ptt.cc/bbs/movie/M.1745600060.A.C85.html [討論] 娜塔莉波曼《尋秘不老泉》預告\n",
            " 4/26 http://www.ptt.cc/bbs/movie/M.1745600233.A.C0D.html [新聞] 《驚奇4超人》女銀色衝浪手身份待揭曉！\n",
            " 4/26 http://www.ptt.cc/bbs/movie/M.1745600522.A.829.html [新聞]加入MCU前賽巴斯汀史坦事業已「奄奄一息！\n",
            " 4/26 http://www.ptt.cc/bbs/movie/M.1745635170.A.E1A.html [討論] 緋紅女巫新片《The Assessment》\n",
            " 4/26 http://www.ptt.cc/bbs/movie/M.1745635939.A.39A.html [討論] 電影院為何需要存在?\n",
            " 4/26 http://www.ptt.cc/bbs/movie/M.1745647533.A.7D2.html [請益] 再找一部電影片名\n",
            " 4/26 http://www.ptt.cc/bbs/movie/M.1745650049.A.278.html [雷] 罪人-後段讓人問號\n",
            " 4/26 http://www.ptt.cc/bbs/movie/M.1745651454.A.98B.html [普雷] 《學姊是男孩 雨過天晴》\n",
            " 4/26 http://www.ptt.cc/bbs/movie/M.1745652280.A.4D9.html [好微雷] 「怪誕故事」:統治影展的DEI\n",
            " 4/26 http://www.ptt.cc/bbs/movie/M.1745662310.A.991.html [LIVE] HBO 21:00 邪惡勿語\n",
            " 4/26 http://www.ptt.cc/bbs/movie/M.1745665369.A.AF0.html [討論] ［極好雷］罪人\n",
            " 4/26 http://www.ptt.cc/bbs/movie/M.1745667036.A.9C0.html Re: [好雷] 粗獷派建築師 現代主義的國族史詩 \n",
            " 4/26 http://www.ptt.cc/bbs/movie/M.1745667727.A.0D9.html [新聞] 為何Netflix未能打入中國 執行長親曝原因\n",
            " 4/26 http://www.ptt.cc/bbs/movie/M.1745673007.A.A4C.html [雷] ［宇宙爆炸好雷］罪人觀後感\n",
            " 4/26 http://www.ptt.cc/bbs/movie/M.1745674231.A.44F.html [討論] 有傑森史塔森的硬漢片推薦\n",
            " 4/26 http://www.ptt.cc/bbs/movie/M.1745678284.A.70D.html Re: [LIVE] HBO 21:00 邪惡勿語\n",
            " 4/26 http://www.ptt.cc/bbs/movie/M.1745678741.A.FA3.html Re: [新聞]Netflix高呼「我們是在拯救好萊塢！電影院\n",
            " 4/27 http://www.ptt.cc/bbs/movie/M.1745685368.A.EAB.html Re: [討論] 亞當斯一家（阿達一族）有什麼魔力\n",
            " 4/27 http://www.ptt.cc/bbs/movie/M.1745690299.A.620.html [問片] 90年代初西遊記動畫，泳裝美女橋段\n",
            " 4/27 http://www.ptt.cc/bbs/movie/M.1745716852.A.3EB.html Re: [雷] 罪人-後段讓人問號\n",
            " 4/25 http://www.ptt.cc/bbs/movie/M.1745551415.A.D1A.html iTunes多部$80起 五星主廚快餐車.掃毒3.山中森林\n",
            " 4/25 http://www.ptt.cc/bbs/movie/M.1745551764.A.C30.html [普雷] 《少年與狗》狗狗為什麼流浪？\n",
            " 4/25 http://www.ptt.cc/bbs/movie/M.1745569222.A.B6C.html [新聞]雷霆特攻隊》倫敦首映！片尾細節遭網上洩\n",
            " 4/25 http://www.ptt.cc/bbs/movie/M.1745570031.A.F68.html [請益] 會計師2多個問題（劇情雷）\n",
            " 4/25 http://www.ptt.cc/bbs/movie/M.1745570577.A.017.html [好雷]《帶針的女孩》：非死即傷且無聲 \n",
            " 4/25 http://www.ptt.cc/bbs/movie/M.1745573353.A.95C.html [負無雷] 《直到黎明》\n",
            " 4/25 http://www.ptt.cc/bbs/movie/M.1745573368.A.61D.html Re: [請益] 會計師2多個問題（劇情雷）\n",
            " 4/25 http://www.ptt.cc/bbs/movie/M.1745574924.A.B11.html [新聞]Netflix高呼「我們是在拯救好萊塢！電影院\n",
            " 4/25 http://www.ptt.cc/bbs/movie/M.1745575466.A.150.html [普雷] 《女警撞到夫》逃走可恥還沒用？\n",
            " 4/25 http://www.ptt.cc/bbs/movie/M.1745576024.A.ABE.html Re: [請益] 會計師2多個問題（劇情雷）\n",
            " 4/25 http://www.ptt.cc/bbs/movie/M.1745576987.A.B7D.html [普無雷] 直到黎明:跳嚇一時爽\n",
            " 4/25 http://www.ptt.cc/bbs/movie/M.1745580890.A.4F1.html [分享] 2023金成訪問梁朝偉\n",
            " 4/25 http://www.ptt.cc/bbs/movie/M.1745582426.A.184.html [好雷]   毒劫   \n",
            " 4/25 http://www.ptt.cc/bbs/movie/M.1745586567.A.8FB.html [閒聊] 有希望哪些片子被4K修復嗎?\n",
            " 4/25 http://www.ptt.cc/bbs/movie/M.1745587505.A.9A2.html [算好雷] 會計師2 - 缺憾的美\n",
            " 4/25 http://www.ptt.cc/bbs/movie/M.1745592442.A.5EE.html [普雷] 直到黎明 - 這是前傳嗎！？\n",
            " 4/25 http://www.ptt.cc/bbs/movie/M.1745595182.A.E70.html [新聞] 男星馮迪索《超世紀戰警4》預告將釋出！\n",
            " 4/25 http://www.ptt.cc/bbs/movie/M.1745595657.A.750.html [新聞] 「少女時代」秀英進軍好萊塢！驚喜現身\n",
            " 4/25 http://www.ptt.cc/bbs/movie/M.1745596416.A.F69.html [好雷] 《刺心切骨》什麼是真愛\n",
            " 4/25 http://www.ptt.cc/bbs/movie/M.1745596687.A.A0D.html [討論] 女銀色衝浪手演員自己困惑性別轉換\n",
            " 4/24 http://www.ptt.cc/bbs/movie/M.1745490153.A.4B6.html [討論] 厲害的雙關或諧音片名\n",
            " 4/24 http://www.ptt.cc/bbs/movie/M.1745492813.A.181.html [討論] 大家會因為動作片實打實拍進影院嗎？\n",
            " 4/24 http://www.ptt.cc/bbs/movie/M.1745495759.A.5C9.html [新聞] ATEEZ首部演唱會電影5/9起3版本全台上映!\n",
            " 4/24 http://www.ptt.cc/bbs/movie/M.1745497122.A.5D1.html [負雷] 會計師2\n",
            " 4/24 http://www.ptt.cc/bbs/movie/M.1745498967.A.E3A.html [請益] 想要跟戲院裡面的人一起歡呼\n",
            " 4/24 http://www.ptt.cc/bbs/movie/M.1745500163.A.F21.html [新聞] 布萊德彼特的《從前有個好萊塢》續集預計\n",
            " 4/24 http://www.ptt.cc/bbs/movie/M.1745502371.A.93C.html [  雷] 會計師2   期望太高\n",
            " 4/24 http://www.ptt.cc/bbs/movie/M.1745502668.A.63C.html [好雷] 暫時停止接觸\n",
            " 4/24 http://www.ptt.cc/bbs/movie/M.1745503134.A.22D.html [討論] 沙贊導演「直到黎明」爛番茄62%(持續跳動)\n",
            " 4/24 http://www.ptt.cc/bbs/movie/M.1745506022.A.A8A.html [好雷]罪人 \n",
            " 4/24 http://www.ptt.cc/bbs/movie/M.1745508189.A.F26.html [好雷] 罪人：這電影有點醉人\n",
            " 4/24 http://www.ptt.cc/bbs/movie/M.1745508989.A.3A0.html [請益] Netflix 杜琪峯黑社會劇情/字幕疑問(雷)\n",
            " 4/24 http://www.ptt.cc/bbs/movie/M.1745510141.A.F63.html [新聞] 19部經典重映 許鞍華5月來台會影迷\n",
            " 4/24 http://www.ptt.cc/bbs/movie/M.1745510226.A.ADC.html [  雷] 罪人  觀後感\n",
            " 4/25 http://www.ptt.cc/bbs/movie/M.1745518090.A.920.html [好雷（請益）] 會計師2\n",
            " 4/25 http://www.ptt.cc/bbs/movie/M.1745523029.A.B55.html [好雷] 器子 女兒視角\n",
            " 4/25 http://www.ptt.cc/bbs/movie/M.1745524139.A.708.html Re: [  雷] 會計師2   期望太高\n",
            " 4/25 http://www.ptt.cc/bbs/movie/M.1745539741.A.152.html [情報] 阿部寬主演『奪命炎上』\n",
            " 4/25 http://www.ptt.cc/bbs/movie/M.1745541866.A.2CE.html [請益] 會計師2的問題 (有雷)\n",
            " 4/25 http://www.ptt.cc/bbs/movie/M.1745545560.A.0F6.html [負無雷] 會計師2\n",
            " 4/23 http://www.ptt.cc/bbs/movie/M.1745407411.A.ACE.html [情報] 長澤雅美『おーい、応為』演葛飾北齋女兒\n",
            " 4/23 http://www.ptt.cc/bbs/movie/M.1745408995.A.0B4.html [新聞] <少年與狗>西野七瀨、高橋文哉秀精湛演技\n",
            " 4/23 http://www.ptt.cc/bbs/movie/M.1745415947.A.B03.html [新聞] 《天才少女福爾摩斯3》開拍！亨利卡維爾\n",
            " 4/23 http://www.ptt.cc/bbs/movie/M.1745417768.A.7B8.html [請益] 電腦動畫有沒有比較便宜？\n",
            " 4/23 http://www.ptt.cc/bbs/movie/M.1745420978.A.4FE.html [好無雷] 會計師2特映觀後 拳拳到肉笑點滿滿\n",
            " 4/24 http://www.ptt.cc/bbs/movie/M.1745426989.A.EC8.html [好雷]  Adrien Brody與他的《人間師格》 \n",
            " 4/24 http://www.ptt.cc/bbs/movie/M.1745431667.A.DB2.html [片單] 有關持續成功的影片?\n",
            " 4/24 http://www.ptt.cc/bbs/movie/M.1745435065.A.7C9.html [好雷] 罪人\n",
            " 4/24 http://www.ptt.cc/bbs/movie/M.1745435612.A.1BD.html [情報] 新終極戰士第一支預告上線\n",
            " 4/24 http://www.ptt.cc/bbs/movie/M.1745436941.A.CD3.html [討論] 趙喜娜 伊卓瑞斯艾巴「國家元首」預告\n",
            " 4/24 http://www.ptt.cc/bbs/movie/M.1745465115.A.2C9.html [好雷] 名偵探皮卡丘 配音根本神選角\n",
            " 4/24 http://www.ptt.cc/bbs/movie/M.1745468252.A.357.html [討論] 歌喉讚演員「終極新娘」預告\n",
            " 4/24 http://www.ptt.cc/bbs/movie/M.1745468411.A.85A.html [好雷] 會計師2\n",
            " 4/24 http://www.ptt.cc/bbs/movie/M.1745471901.A.DCB.html  [好雷] 器子 出戲但可看\n",
            " 4/24 http://www.ptt.cc/bbs/movie/M.1745473451.A.A1F.html [情報] 2025 坎城影展 新增片單！\n",
            " 4/24 http://www.ptt.cc/bbs/movie/M.1745476456.A.736.html [普雷]會計師2 一言難盡 \n",
            " 4/24 http://www.ptt.cc/bbs/movie/M.1745484836.A.E92.html [問片] 一部很舊的西洋老片(應該有2-30年左右)\n",
            " 4/24 http://www.ptt.cc/bbs/movie/M.1745486344.A.842.html [好雷] 荒野機器人 最喜歡的動畫\n",
            " 4/24 http://www.ptt.cc/bbs/movie/M.1745489123.A.A28.html [無雷] 會計師2，We are family\n",
            " 4/24 http://www.ptt.cc/bbs/movie/M.1745489242.A.41B.html [討論] 魔法壞女巫 05/31 上MAX串流\n"
          ]
        }
      ]
    },
    {
      "cell_type": "markdown",
      "source": [
        "美食版5篇"
      ],
      "metadata": {
        "id": "xIALFus6pHX7"
      }
    },
    {
      "cell_type": "code",
      "source": [
        "def get_articles(url):\n",
        "  response = requests.get(url)\n",
        "  soup = BeautifulSoup(response.text, 'lxml')\n",
        "  for atcl in soup.find_all('div', class_='r-ent'):\n",
        "    if atcl.find('div', class_='title').a:\n",
        "      ttle = atcl.find('div', class_='title').a.text\n",
        "      href ='http://www.ptt.cc' + atcl.find('div',class_='title').a.get('href')\n",
        "    else:\n",
        "      ttle = atcl.find('div', class_='title').text.strip()\n",
        "      href = ''\n",
        "    date = atcl.find('div', class_='date').text\n",
        "    print(date,href,ttle)\n",
        "  url = 'http://www.ptt.cc'+ soup.find_all('a',class_='btn wide')[1].get('href')\n",
        "  return url\n",
        "\n",
        "url = 'http://www.ptt.cc/bbs/Food/index.html'\n",
        "for i in range(5):\n",
        "  url = get_articles(url)"
      ],
      "metadata": {
        "colab": {
          "base_uri": "https://localhost:8080/"
        },
        "id": "D21qiLHKoqyc",
        "outputId": "cd310ded-a0eb-44bb-facf-096d38291c53"
      },
      "execution_count": null,
      "outputs": [
        {
          "output_type": "stream",
          "name": "stdout",
          "text": [
            " 4/27 http://www.ptt.cc/bbs/Food/M.1745747417.A.BD9.html [食記] 新北蘆洲 蠔鱻生魚片熱炒店可外送到家\n",
            " 4/27 http://www.ptt.cc/bbs/Food/M.1745747607.A.37B.html [食記] 王記芋丸 彰化鹿港 芋香十足鮮肉干貝芋丸\n",
            " 4/27 http://www.ptt.cc/bbs/Food/M.1745750266.A.296.html [食記] 台北：天東86牛肉麵-士林店\n",
            "12/16 http://www.ptt.cc/bbs/Food/M.1355673582.A.5F7.html [公告] Food板 板規 V3.91\n",
            " 9/28 http://www.ptt.cc/bbs/Food/M.1190944426.A.E6C.html [公告] 發文請在標題加上地區及提供地址電話。^^\n",
            "10/01 http://www.ptt.cc/bbs/Food/M.1128132666.A.0FD.html [公告] 文章被刪除者請洽精華區的資源回收桶\n",
            " 6/04 http://www.ptt.cc/bbs/Food/M.1496532469.A.C36.html [公告] 新增板規22：發文禁附延伸閱讀連結\n",
            " 4/24 http://www.ptt.cc/bbs/Food/M.1745473980.A.8F4.html [食記] 台中 鮨真 - 板前壽司日本料理 全台到府\n",
            " 4/24 http://www.ptt.cc/bbs/Food/M.1745496424.A.C72.html [食記] 新北 蘆洲區｜享吐司\n",
            " 4/24 http://www.ptt.cc/bbs/Food/M.1745503170.A.97B.html [食記] 桃園中壢區。控貝貝 傳承古早味小吃\n",
            " 4/24 http://www.ptt.cc/bbs/Food/M.1745503763.A.DF4.html [食記] 香港 大壹燒鵝 + C Dessert\n",
            " 4/24 http://www.ptt.cc/bbs/Food/M.1745505774.A.0C9.html [食記] 日本福岡 元祖拉麵 長濱家 元祖ラーメン長浜家 簡單暴力\n",
            " 4/25 http://www.ptt.cc/bbs/Food/M.1745514089.A.F9C.html [食記] 英國倫敦 Museum Tavern 週日烤肉炸魚薯\n",
            " 4/25 http://www.ptt.cc/bbs/Food/M.1745514610.A.C2E.html [食記] 三重真永和北平烤鴨\n",
            " 4/25 http://www.ptt.cc/bbs/Food/M.1745521300.A.E66.html [食記] 亞仙越南麵包 桃園大園 酥燒肉蛋越南麵包\n",
            " 4/25 http://www.ptt.cc/bbs/Food/M.1745563553.A.A95.html [食記] 中壢 龍岡必吃特色雲南美食-國旗屋米干\n",
            " 4/25 http://www.ptt.cc/bbs/Food/M.1745566244.A.958.html [討論] 迴轉壽司懶人包，吃完六家這樣選！\n",
            " 4/25 http://www.ptt.cc/bbs/Food/M.1745585841.A.EC3.html [食記] 泰國曼谷 Brave, Sathon\n",
            " 4/26 http://www.ptt.cc/bbs/Food/M.1745655129.A.401.html [廣宣] 台北 信義 枝枒・気分転換所 New Leaf餐酒館\n",
            " 4/26 http://www.ptt.cc/bbs/Food/M.1745657796.A.602.html [食記] 10 Factory 日本愛媛 蜜柑霜淇淋蜜柑啤酒\n",
            " 4/26 http://www.ptt.cc/bbs/Food/M.1745660339.A.72B.html [食記] 桃園平鎮區。歐告卷壽司\n",
            " 4/26 http://www.ptt.cc/bbs/Food/M.1745663699.A.0C7.html [食記] 台北大安 Les Piccola 咖啡餐酒館\n",
            " 4/26 http://www.ptt.cc/bbs/Food/M.1745669571.A.BDC.html [食記] 新北 土城區｜初糜Chumi金門廣東粥\n",
            " 4/26 http://www.ptt.cc/bbs/Food/M.1745675694.A.8A4.html [食記] 香港 富臨飯店(米其林三星)\n",
            " 4/26 http://www.ptt.cc/bbs/Food/M.1745680145.A.8D2.html [食記] 美國 灣區高CP值牛排Black Angus\n",
            " 4/26 http://www.ptt.cc/bbs/Food/M.1745682537.A.FDD.html [食記] 新北三重 甜甜圈雙胞胎(大同南路)\n",
            " 4/27 http://www.ptt.cc/bbs/Food/M.1745686159.A.951.html [食記] 桃園 大溪 大溪港式點心\n",
            " 4/21 http://www.ptt.cc/bbs/Food/M.1745208239.A.4C8.html [食記] 香港 祥興記 米其林推薦脆皮上海生煎包\n",
            " 4/21 http://www.ptt.cc/bbs/Food/M.1745208763.A.379.html [食記] 新北新店 永哥港式點心坊 巷弄內港式飲茶\n",
            " 4/21 http://www.ptt.cc/bbs/Food/M.1745220086.A.F97.html [食記] 小板凳羊肉飯 新北新莊 鍋氣油香蝦仁炒飯\n",
            " 4/21 http://www.ptt.cc/bbs/Food/M.1745228182.A.4A4.html [食記] 新店 金色三麥 21元德國豬腳\n",
            " 4/22 http://www.ptt.cc/bbs/Food/M.1745284127.A.910.html [食記] Katsumi屋 日本佐賀 香Q美味的雞皮烏龍麵\n",
            " 4/22 http://www.ptt.cc/bbs/Food/M.1745296177.A.5D8.html [食記] 日本福岡 とんかつ わか葉 wakaba 炸豬排 低溫慢炸 好好\n",
            " 4/22 http://www.ptt.cc/bbs/Food/M.1745300125.A.8F4.html [食記] 台北中山 不然BRUN早午餐\n",
            " 4/22 http://www.ptt.cc/bbs/Food/M.1745315043.A.03C.html [食記]台北松山 富士豬排 とんかつ富士 熟成豬排\n",
            " 4/22 http://www.ptt.cc/bbs/Food/M.1745315419.A.987.html [食記] 拉脫維亞里加 里加中央市場2家水餃.1家酒\n",
            " 4/22 http://www.ptt.cc/bbs/Food/M.1745319876.A.B34.html [請益] 士林大同 排骨便當 $150以下 午晚餐\n",
            " 4/22 http://www.ptt.cc/bbs/Food/M.1745326002.A.C0E.html Fw: [食記] [新竹竹北] 焦糖楓串燒漢方無烟撒粉\n",
            " 4/22 http://www.ptt.cc/bbs/Food/M.1745329531.A.A45.html [食記] 台中 地坊餐廳 TU PANG\n",
            " 4/22 http://www.ptt.cc/bbs/Food/M.1745331809.A.479.html [食記] 桃園楊梅區。文化街無名鹽酥雞/香雞排\n",
            " 4/23 http://www.ptt.cc/bbs/Food/M.1745388323.A.26A.html [討論] 1001夜餐廳變味與在地化口味調和？\n",
            " 4/23 http://www.ptt.cc/bbs/Food/M.1745392435.A.973.html [食記] 蘇記餃子館 台北中正 山東燒雞及韓式煎餅\n",
            " 4/23 http://www.ptt.cc/bbs/Food/M.1745403982.A.A68.html [食記] 法國巴黎 Le 37m2 台灣餐廳 鹹酥雞.牛腩\n",
            " 4/23 http://www.ptt.cc/bbs/Food/M.1745414241.A.22C.html [食記] 台東 萬家鄉餃子館 原味料理 不添加味素\n",
            " 4/23 http://www.ptt.cc/bbs/Food/M.1745417666.A.E34.html [食記] 台北 新美香咖哩 KurryCurry\n",
            " 4/24 http://www.ptt.cc/bbs/Food/M.1745460861.A.0F0.html [食記] 釜山 24小時營業老店-松亭三代豬肉湯飯\n",
            " 4/24 http://www.ptt.cc/bbs/Food/M.1745469459.A.C8E.html [食記] 麵屋Tsutsumi 日本宮崎 蒟蒻辛麵石鍋拌飯\n",
            " 4/18 http://www.ptt.cc/bbs/Food/M.1744940895.A.136.html [廣宣] 台北 信義區餐酒館新選擇-Hoda Bistro\n",
            " 4/18 http://www.ptt.cc/bbs/Food/M.1744964842.A.89B.html [食記] 味愉嬉食堂 日本大分 香鮮胡麻出汁烏龍麵\n",
            " 4/18 http://www.ptt.cc/bbs/Food/M.1744978798.A.476.html [食記] 花蓮 定置漁場 將軍府日式老屋海鮮料理\n",
            " 4/18 http://www.ptt.cc/bbs/Food/M.1744990363.A.BE2.html [食記] 平價火鍋吃到飽：魯山人日式壽喜燒\n",
            " 4/19 http://www.ptt.cc/bbs/Food/M.1745042344.A.29B.html [食記] 新北山芝 海邊灶咖 Ocean Kitchen & Cafe\n",
            " 4/19 http://www.ptt.cc/bbs/Food/M.1745043287.A.D7A.html [食記] 日本東京 鳥貴族澀谷井之頭通店\n",
            " 4/19 http://www.ptt.cc/bbs/Food/M.1745049176.A.05B.html [食記] 桃園楊梅區。埔心金色大地 紅豆餅\n",
            " 4/19 http://www.ptt.cc/bbs/Food/M.1745050890.A.18C.html [食記] 嵩山豆花 新竹竹北 香甜適中豆花配相思圓\n",
            " 4/20 http://www.ptt.cc/bbs/Food/M.1745130143.A.5A3.html [食記] 新北 中和區｜招酒晚五 IZAKAYA\n",
            " 4/20 http://www.ptt.cc/bbs/Food/M.1745140713.A.D15.html [食記] 丸萬燒鳥 日本宮崎 碳火香氣十足宮崎地雞\n",
            " 4/20 http://www.ptt.cc/bbs/Food/M.1745141684.A.EBA.html [食記] 台北。中山站-二屋牡蠣拉麵~免費加麵\n",
            " 4/20 http://www.ptt.cc/bbs/Food/M.1745145545.A.572.html [食記] 新北 板橋 56巷口湯包\n",
            " 4/20 http://www.ptt.cc/bbs/Food/M.1745145723.A.8FF.html [食記] 台北 文山 木新市場小籠包\n",
            " 4/20 http://www.ptt.cc/bbs/Food/M.1745148869.A.8FD.html [廣宣] 新北蘆洲 五一五中卷麵線\n",
            " 4/20 http://www.ptt.cc/bbs/Food/M.1745162324.A.5D2.html [抱怨] 宜蘭羅東-小時厚牛排態度惡劣\n",
            " 4/21 http://www.ptt.cc/bbs/Food/M.1745165929.A.96F.html [食記] 日本福岡 Yagura 定食 やぐら(カツ丼定食) 豬排丼定食\n",
            " 4/21 http://www.ptt.cc/bbs/Food/M.1745166042.A.049.html [食記] 瑞典斯德哥爾摩 IKEA宜家家居 肉丸.霜淇淋\n",
            " 4/21 http://www.ptt.cc/bbs/Food/M.1745167798.A.523.html [食記] 台北 中正 立法院三寶：一志雞排＋生煎包\n",
            " 4/21 http://www.ptt.cc/bbs/Food/M.1745202762.A.E50.html [食記] 日本福岡-明太子吃到飽-喜水丸\n",
            " 4/21 http://www.ptt.cc/bbs/Food/M.1745202814.A.E18.html [廣宣] 永康街 喫飯食堂 小份量台菜\n",
            " 4/15 http://www.ptt.cc/bbs/Food/M.1744719922.A.B44.html [食記] 宜蘭 阿灶伯當歸羊肉湯 羅東夜市排隊名店\n",
            " 4/15 http://www.ptt.cc/bbs/Food/M.1744724015.A.239.html [食記] 新北瑞芳—CHLIV｜世界拉花冠軍隱身九份 精心研磨極簡咖啡\n",
            " 4/15 http://www.ptt.cc/bbs/Food/M.1744724842.A.AA6.html [食記] 嘉義 阿宏師火雞肉飯\n",
            " 4/15 http://www.ptt.cc/bbs/Food/M.1744726761.A.5DB.html [食記] 楊梅 首烏客家海鮮~五訪貓人私房菜\n",
            " 4/15 http://www.ptt.cc/bbs/Food/M.1744728435.A.E0D.html [食記] 新竹東區 涓豆腐(新竹巨城店)\n",
            " 4/16 http://www.ptt.cc/bbs/Food/M.1744778792.A.867.html [食記] 新北中和寶媽乾拌麵 鹹香餛飩麵\n",
            " 4/16 http://www.ptt.cc/bbs/Food/M.1744801062.A.5A5.html [食記] 沖繩那霸 JAM'S TACOS 國際通店 塔可飯\n",
            " 4/16 http://www.ptt.cc/bbs/Food/M.1744802978.A.FE8.html [食記] 海鮮長谷川 日本宮崎 伊勢龍蝦湯海鮮丼飯\n",
            " 4/16 http://www.ptt.cc/bbs/Food/M.1744809755.A.337.html [食記] 高雄 Falling in 啡煙 高人氣美味甜點店\n",
            " 4/16 http://www.ptt.cc/bbs/Food/M.1744815023.A.D83.html [食記] 嘉義 民主火雞肉飯\n",
            " 4/17 http://www.ptt.cc/bbs/Food/M.1744848500.A.615.html [食記] 日本福岡-會動的烏賊生魚片-河太郎\n",
            " 4/17 http://www.ptt.cc/bbs/Food/M.1744854124.A.428.html [食記] 釜山 廣安人氣面海韓食餐廳-Nasari食堂\n",
            " 4/17 http://www.ptt.cc/bbs/Food/M.1744870836.A.839.html [食記] 北海道拉麵魚貝和雞 台北大安 濃牡蠣拉麵\n",
            " 4/17 http://www.ptt.cc/bbs/Food/M.1744877459.A.119.html [食記] 台中 丸南生魚片 搬新家近逢甲夜市$10/片\n",
            " 4/17 http://www.ptt.cc/bbs/Food/M.1744891102.A.165.html [食記] 高雄 鄧師傅功夫菜-中正總店 \n",
            " 4/17 http://www.ptt.cc/bbs/Food/M.1744892939.A.78D.html [食記] 台中 豐原區｜蘿娜印度廚坊\n",
            " 4/17 http://www.ptt.cc/bbs/Food/M.1744896299.A.B1D.html [廣宣] 台北大安—At.First More｜升級版東區人氣早午餐 大份量\n",
            " 4/17 http://www.ptt.cc/bbs/Food/M.1744897521.A.8D9.html [食記] 新竹縣竹北市。阿中丸子\n",
            " 4/18 http://www.ptt.cc/bbs/Food/M.1744906849.A.754.html [食記] 基隆市中正區-要塞司令部洋食廚房\n",
            " 4/18 http://www.ptt.cc/bbs/Food/M.1744938744.A.69F.html [食記] 台南可頌控必朝聖！美味儀式LE BAKER\n"
          ]
        }
      ]
    },
    {
      "cell_type": "markdown",
      "source": [
        "八卦版5篇"
      ],
      "metadata": {
        "id": "fJnyA0XupOb5"
      }
    },
    {
      "cell_type": "code",
      "source": [
        "def get_articles(url):\n",
        "  response = requests.get(url)\n",
        "  soup = BeautifulSoup(response.text, 'lxml')\n",
        "  for atcl in soup.find_all('div', class_='r-ent'):\n",
        "    if atcl.find('div', class_='title').a:\n",
        "      ttle = atcl.find('div', class_='title').a.text\n",
        "      href ='http://www.ptt.cc' + atcl.find('div',class_='title').a.get('href')\n",
        "    else:\n",
        "      ttle = atcl.find('div', class_='title').text.strip()\n",
        "      href = ''\n",
        "    date = atcl.find('div', class_='date').text\n",
        "    print(date,href,ttle)\n",
        "  url = 'http://www.ptt.cc'+ soup.find_all('a',class_='btn wide')[1].get('href')\n",
        "  return url\n",
        "\n",
        "url = 'http://www.ptt.cc/bbs/Gossiping/index.html'\n",
        "for i in range(5):\n",
        "  url = get_articles(url)"
      ],
      "metadata": {
        "colab": {
          "base_uri": "https://localhost:8080/"
        },
        "id": "yOQaYmGYpEyc",
        "outputId": "dc68ad6d-2589-4c35-bc94-827cc1006804"
      },
      "execution_count": null,
      "outputs": [
        {
          "output_type": "stream",
          "name": "stdout",
          "text": [
            " 4/27 http://www.ptt.cc/bbs/Gossiping/M.1745763533.A.8AE.html [問卦] 沒很熟的學妹要叫名字嗎？\n",
            " 4/27 http://www.ptt.cc/bbs/Gossiping/M.1745763562.A.5EF.html [問卦] 祝緒祝緒丹丹祝緒祝緒丹\n",
            " 4/27 http://www.ptt.cc/bbs/Gossiping/M.1745763751.A.D25.html [問卦] 八卦到底多少人在過窮學生的生活？\n",
            " 4/27 http://www.ptt.cc/bbs/Gossiping/M.1745763772.A.F40.html [問卦] 大家對未能驗證真假的東西都怎麼看待\n",
            " 4/27 http://www.ptt.cc/bbs/Gossiping/M.1745763786.A.149.html [新聞] 賴總統參加台中一中校慶 重申對等尊嚴與\n",
            " 4/27 http://www.ptt.cc/bbs/Gossiping/M.1745763862.A.C25.html [新聞] 竹北西濱「小貨車追撞皮卡」！1傷1命危\n",
            " 4/27 http://www.ptt.cc/bbs/Gossiping/M.1745763882.A.6B2.html [公告] 水桶期間請勿開分身推發文 水桶\n",
            " 4/27 http://www.ptt.cc/bbs/Gossiping/M.1745763961.A.2F5.html [問卦] 學妹MSN動態：那愛情的綺麗 總是在孤單裡\n",
            " 4/27 http://www.ptt.cc/bbs/Gossiping/M.1745763978.A.3D6.html [問卦] 為啥棒球場大家都還是拿單眼阿 掛???????\n",
            " 4/27 http://www.ptt.cc/bbs/Gossiping/M.1745763996.A.FCD.html [問卦] 食量大的改一天一餐可以省錢嗎???\n",
            " 4/27 http://www.ptt.cc/bbs/Gossiping/M.1745764041.A.C1B.html [問卦] 曼聯怎麼慘成這樣\n",
            " 1/21 http://www.ptt.cc/bbs/Gossiping/M.1737398137.A.644.html [公告] 八卦板板規(2025.01.21)\n",
            " 3/12 http://www.ptt.cc/bbs/Gossiping/M.1741791500.A.EB6.html Fw: [公告] 請避免與登入1次之帳號進行交易 發錢\n",
            " 4/06 http://www.ptt.cc/bbs/Gossiping/M.1743920492.A.0DB.html [公告] 壹蘋未確實查證警告，禁發記者魏盈盈新聞\n",
            " 4/18 http://www.ptt.cc/bbs/Gossiping/M.1744941348.A.789.html [協尋] 4/17高師大20.00警察亂抓人\n",
            " 4/27 http://www.ptt.cc/bbs/Gossiping/M.1745763882.A.6B2.html [公告] 水桶期間請勿開分身推發文 水桶\n",
            " 4/27 http://www.ptt.cc/bbs/Gossiping/M.1745762430.A.AB2.html [問卦] 築夢者的波波失戀了！\n",
            " 4/27 http://www.ptt.cc/bbs/Gossiping/M.1745762516.A.16E.html Re: [問卦] 為什麼谷歌翻譯做的比AI爛阿\n",
            " 4/27 http://www.ptt.cc/bbs/Gossiping/M.1745762569.A.3A2.html [問卦] 台灣今年量產固態電池？穩嗎？\n",
            " 4/27 http://www.ptt.cc/bbs/Gossiping/M.1745762597.A.3AD.html [問卦] 台積電分割成控股公司的可能\n",
            " 4/27 http://www.ptt.cc/bbs/Gossiping/M.1745762598.A.028.html [新聞] 大阪萬博飛行車飛到一半螺旋槳炸裂\n",
            " 4/27 http://www.ptt.cc/bbs/Gossiping/M.1745762656.A.92B.html [新聞] 彰化花壇死亡車禍！土地公廟前撞死老婦\n",
            " 4/27  (本文已被刪除) [chang17a]\n",
            " 4/27 http://www.ptt.cc/bbs/Gossiping/M.1745762744.A.040.html [問卦] 再疫情一次，你想放推還是鎖國封城？\n",
            " 4/27 http://www.ptt.cc/bbs/Gossiping/M.1745762833.A.EED.html Re: [問卦] 超商的三角飯糰快都沒人要正常嗎？\n",
            " 4/27 http://www.ptt.cc/bbs/Gossiping/M.1745762996.A.7FB.html Re: [新聞] 超市熱銷牛奶為何貴又缺貨？他揭「1關鍵\n",
            " 4/27 http://www.ptt.cc/bbs/Gossiping/M.1745763109.A.BF8.html Re: [新聞] 3餐噴500元！住台北伙食費「每月恐飆2萬」\n",
            " 4/27  (本文已被刪除) [judas666]\n",
            " 4/27 http://www.ptt.cc/bbs/Gossiping/M.1745763151.A.B89.html [問卦] 失眠嚴重 要吃什麼? 芝麻明? 褪黑激素?\n",
            " 4/27 http://www.ptt.cc/bbs/Gossiping/M.1745763152.A.6B2.html Re: [新聞] 館長挺韓反韓又挺韓　黃瓊慧酸爆「三姓家\n",
            " 4/27 http://www.ptt.cc/bbs/Gossiping/M.1745763163.A.18C.html [問卦] 426地震的話題應該算結束了吧?\n",
            " 4/27 http://www.ptt.cc/bbs/Gossiping/M.1745763308.A.A60.html Re: [問卦] 孔孟思想，在台灣有慢慢式微了嗎？\n",
            " 4/27 http://www.ptt.cc/bbs/Gossiping/M.1745763342.A.0CA.html Re: [問卦] 交通規劃為什麼不外包給日本\n",
            " 4/27 http://www.ptt.cc/bbs/Gossiping/M.1745763352.A.186.html Re: [新聞] 3餐噴500元！住台北伙食費「每月恐飆2萬」\n",
            " 4/27 http://www.ptt.cc/bbs/Gossiping/M.1745763516.A.F40.html [問卦] 日本人是邊緣人嗎\n",
            " 4/27 http://www.ptt.cc/bbs/Gossiping/M.1745763530.A.3B7.html [問卦] 沒人發現川普真的超智障的嗎QE就他時代搞\n",
            " 4/27 http://www.ptt.cc/bbs/Gossiping/M.1745761573.A.EAE.html [問卦] 義大利會對梵蒂岡進行軍演嗎？\n",
            " 4/27 http://www.ptt.cc/bbs/Gossiping/M.1745761587.A.51D.html [問卦] 為什麼谷歌翻譯做的比AI爛阿\n",
            " 4/27 http://www.ptt.cc/bbs/Gossiping/M.1745761659.A.801.html [新聞] 被黃智賢嗆有多少實力?黃國昌回答了:先回\n",
            " 4/27 http://www.ptt.cc/bbs/Gossiping/M.1745761686.A.C28.html [問卦] 檢調怎麼決定要不要繼續養案啊?\n",
            " 4/27 http://www.ptt.cc/bbs/Gossiping/M.1745761860.A.BEF.html Re: [新聞] 新住民參加426被綠營歧視？林志潔：鄭正\n",
            " 4/27 http://www.ptt.cc/bbs/Gossiping/M.1745761881.A.CB2.html Re: [問卦] 老婆小奶怎麼辦？\n",
            " 4/27 http://www.ptt.cc/bbs/Gossiping/M.1745761906.A.433.html Re: [問卦] 大陸號稱全產業 做不出遊戲機？\n",
            " 4/27 http://www.ptt.cc/bbs/Gossiping/M.1745761930.A.FA6.html [問卦] 為什麼靈堂 是特許行業?\n",
            " 4/27 http://www.ptt.cc/bbs/Gossiping/M.1745761943.A.BCE.html Re: [新聞] 越南女友30歲！「媽狠喊125萬聘金」台男\n",
            " 4/27 http://www.ptt.cc/bbs/Gossiping/M.1745761958.A.541.html [問卦] 外國人可以區分chinese和Taiwanese嗎?\n",
            " 4/27 http://www.ptt.cc/bbs/Gossiping/M.1745761993.A.6D5.html [問卦] 今年體育賽事 是不是大爆發?? \n",
            " 4/27 http://www.ptt.cc/bbs/Gossiping/M.1745762073.A.9E6.html [問卦] 台灣怎麼沒有自主設計CPU GPU？\n",
            " 4/27 http://www.ptt.cc/bbs/Gossiping/M.1745762103.A.FDC.html [問卦] 剛剛在關西服務區偷了衛生紙\n",
            " 4/27 http://www.ptt.cc/bbs/Gossiping/M.1745762110.A.956.html [新聞] 3餐噴500元！住台北伙食費「每月恐飆2萬」\n",
            " 4/27 http://www.ptt.cc/bbs/Gossiping/M.1745762155.A.C2B.html [問卦] 張昭如果換黃權，吳國最後會贏嗎??\n",
            " 4/27 http://www.ptt.cc/bbs/Gossiping/M.1745762170.A.1C5.html [問卦] 為什麼T那麼愛陰毛頭？\n",
            " 4/27 http://www.ptt.cc/bbs/Gossiping/M.1745762183.A.433.html Re: [新聞] 國民黨426遊行疑動員移工！勞動部要\n",
            " 4/27 http://www.ptt.cc/bbs/Gossiping/M.1745762331.A.B35.html [新聞] 超市熱銷牛奶為何貴又缺貨？他揭「1關鍵\n",
            " 4/27 http://www.ptt.cc/bbs/Gossiping/M.1745762374.A.576.html Re: [問卦] 桃園高鐵到底怎麼回桃園車站？\n",
            " 4/27 http://www.ptt.cc/bbs/Gossiping/M.1745762426.A.2E1.html [問卦] 向上路改單行道不就解決了？\n",
            " 4/27 http://www.ptt.cc/bbs/Gossiping/M.1745760763.A.7E4.html [新聞] 公園搖太高夾斷腿！國小童告國家賠償　\n",
            " 4/27 http://www.ptt.cc/bbs/Gossiping/M.1745760896.A.A30.html [新聞] 25藍委可望邁入罷免三階投票！罷團人士：\n",
            " 4/27 http://www.ptt.cc/bbs/Gossiping/M.1745760912.A.5B7.html [問卦] 脆熱議:汽車的操作設計是父權體系的象徵\n",
            " 4/27 http://www.ptt.cc/bbs/Gossiping/M.1745760945.A.70C.html Re: [新聞] 春水堂「點餐1規定」她怨：不能接受收10\n",
            " 4/27 http://www.ptt.cc/bbs/Gossiping/M.1745761003.A.601.html [問卦] 死前請醫生打一針海洛因有搞頭嗎\n",
            " 4/27  (本文已被刪除) [lelena]\n",
            " 4/27 http://www.ptt.cc/bbs/Gossiping/M.1745761043.A.1D9.html [問卦] 喪屍病毒、極熱末日和戰爭你要選哪個？\n",
            " 4/27  (本文已被刪除) [chen0625]\n",
            " 4/27 http://www.ptt.cc/bbs/Gossiping/M.1745761117.A.D34.html [問卦] 怎麼路上都是大罷免的宣傳車？\n",
            " 4/27 http://www.ptt.cc/bbs/Gossiping/M.1745761148.A.932.html [問卦] 如果小蘭葛屁成全柯哀黨 你接受嗎\n",
            " 4/27 http://www.ptt.cc/bbs/Gossiping/M.1745761150.A.67F.html [問卦] 台男深深呼喚李珠珢\n",
            " 4/27 http://www.ptt.cc/bbs/Gossiping/M.1745761201.A.324.html [問卦] 有沒有吳愛純的八卦？\n",
            " 4/27 http://www.ptt.cc/bbs/Gossiping/M.1745761207.A.E2A.html [問卦] 大陸號稱全產業 做不出遊戲機？\n",
            " 4/27 http://www.ptt.cc/bbs/Gossiping/M.1745761214.A.4F5.html [問卦] 人在高雄，明天怎麼丸？\n",
            " 4/27 http://www.ptt.cc/bbs/Gossiping/M.1745761239.A.8B3.html [問卦] 一天到晚抱怨服務費不嫌無聊嗎\n",
            " 4/27 http://www.ptt.cc/bbs/Gossiping/M.1745761307.A.BF7.html Re: [問卦] 要怎麼跟外國人介紹雍正王朝這部劇 ???\n",
            " 4/27 http://www.ptt.cc/bbs/Gossiping/M.1745761320.A.C17.html [問卦] 漢堡5年漲30%？\n",
            " 4/27 http://www.ptt.cc/bbs/Gossiping/M.1745761338.A.D73.html [問卦] 臺灣街邊炸物攤是不是超多？\n",
            " 4/27 http://www.ptt.cc/bbs/Gossiping/M.1745761351.A.946.html [問卦] 援救組織找到詐騙園區內關押孕婦的影片\n",
            " 4/27 http://www.ptt.cc/bbs/Gossiping/M.1745761367.A.A51.html [問卦] 北港的藝閣是全台最頂的嗎？？\n",
            " 4/27 http://www.ptt.cc/bbs/Gossiping/M.1745759924.A.8B2.html Re: [問卦] 三十幾了還一事無成怎麼辦？\n",
            " 4/27 http://www.ptt.cc/bbs/Gossiping/M.1745759933.A.0B6.html Re: [新聞] 國民黨426遊行疑動員移工！勞動部要\n",
            " 4/27 http://www.ptt.cc/bbs/Gossiping/M.1745760005.A.0A8.html Re: [新聞] 館長挺韓反韓又挺韓　黃瓊慧酸爆「三姓家\n",
            " 4/27 http://www.ptt.cc/bbs/Gossiping/M.1745760026.A.9A8.html [問卦] 大安森林公園一圈幾公里？\n",
            " 4/27 http://www.ptt.cc/bbs/Gossiping/M.1745760191.A.C01.html [問卦] 馬尾李珠珢 是不是無敵了??\n",
            " 4/27 http://www.ptt.cc/bbs/Gossiping/M.1745760217.A.A91.html Re: [問卦] 靠！捷運廣播保全到車廂抓喝水的\n",
            " 4/27 http://www.ptt.cc/bbs/Gossiping/M.1745760246.A.90C.html [問卦] 套過屌的襪子會不會不衛生 你還敢再穿嗎?\n",
            " 4/27 http://www.ptt.cc/bbs/Gossiping/M.1745760257.A.0D1.html Re: [問卦] 脆: 說尊重同性戀 比說甲甲超噁還難聽\n",
            " 4/27 http://www.ptt.cc/bbs/Gossiping/M.1745760263.A.12C.html [問卦] 雅英是不是已經超過多惠了?\n",
            " 4/27 http://www.ptt.cc/bbs/Gossiping/M.1745760314.A.106.html Re: [問卦] 孔孟思想，在台灣有慢慢式微了嗎？\n",
            " 4/27 http://www.ptt.cc/bbs/Gossiping/M.1745760373.A.FC2.html [新聞] 美國首度在安理會批中共曲解2758號決議\n",
            " 4/27  (本文已被刪除) [plok0202]\n",
            " 4/27 http://www.ptt.cc/bbs/Gossiping/M.1745760498.A.679.html [問卦] 噓手勢 劃下巴 這樣的動作啥意思？\n",
            " 4/27 http://www.ptt.cc/bbs/Gossiping/M.1745760534.A.9B2.html [問卦] 發完文為什麼推文要cd?\n",
            " 4/27 http://www.ptt.cc/bbs/Gossiping/M.1745760539.A.94B.html [問卦] vivo x200 ultra \n",
            " 4/27 http://www.ptt.cc/bbs/Gossiping/M.1745760547.A.A56.html [問卦] 「反共」這麼好用，為什麼要討厭它\n",
            " 4/27 http://www.ptt.cc/bbs/Gossiping/M.1745760585.A.E49.html [問卦] 真的有人拿電鍋蒸過口罩嗎==\n",
            " 4/27 http://www.ptt.cc/bbs/Gossiping/M.1745760607.A.4EA.html [問卦] 外食族一天要花500元？！  是真的嗎\n",
            " 4/27 http://www.ptt.cc/bbs/Gossiping/M.1745760633.A.E68.html [問卦] 動物莊園的豬也太可怕了吧==\n",
            " 4/27 http://www.ptt.cc/bbs/Gossiping/M.1745760686.A.65A.html Re: [新聞] 春水堂「點餐1規定」她怨：不能接受收10\n"
          ]
        }
      ]
    }
  ]
}