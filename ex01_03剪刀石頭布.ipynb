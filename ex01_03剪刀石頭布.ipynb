{
  "nbformat": 4,
  "nbformat_minor": 0,
  "metadata": {
    "colab": {
      "provenance": [],
      "authorship_tag": "ABX9TyN2Pb4QmcPRtcEM/EIPXNr6",
      "include_colab_link": true
    },
    "kernelspec": {
      "name": "python3",
      "display_name": "Python 3"
    },
    "language_info": {
      "name": "python"
    }
  },
  "cells": [
    {
      "cell_type": "markdown",
      "metadata": {
        "id": "view-in-github",
        "colab_type": "text"
      },
      "source": [
        "<a href=\"https://colab.research.google.com/github/sean950722/hello/blob/main/ex01_03%E5%89%AA%E5%88%80%E7%9F%B3%E9%A0%AD%E5%B8%83.ipynb\" target=\"_parent\"><img src=\"https://colab.research.google.com/assets/colab-badge.svg\" alt=\"Open In Colab\"/></a>"
      ]
    },
    {
      "cell_type": "code",
      "execution_count": 3,
      "metadata": {
        "colab": {
          "base_uri": "https://localhost:8080/"
        },
        "id": "S9MoRq2XURrO",
        "outputId": "65a3b1a1-bd65-42bc-f7ef-275c7a2a7c9d"
      },
      "outputs": [
        {
          "output_type": "stream",
          "name": "stdout",
          "text": [
            "5\n",
            "computer: 2\n",
            "you lose\n"
          ]
        }
      ],
      "source": [
        "import random\n",
        "player=int(input())\n",
        "computer=int(random.choice([0,2,5]))\n",
        "print(\"computer:\",computer)\n",
        "if player==computer:\n",
        "  print(\"draw\")\n",
        "elif (player==0 and computer==2) or (player==2 and computer==5) or (player==5 and computer==0):\n",
        "  print(\"you win\")\n",
        "else:\n",
        "  print(\"you lose\")"
      ]
    }
  ]
}