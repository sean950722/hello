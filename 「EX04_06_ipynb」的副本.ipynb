{
  "nbformat": 4,
  "nbformat_minor": 0,
  "metadata": {
    "colab": {
      "provenance": [],
      "toc_visible": true,
      "include_colab_link": true
    },
    "kernelspec": {
      "name": "python3",
      "display_name": "Python 3"
    },
    "language_info": {
      "name": "python"
    }
  },
  "cells": [
    {
      "cell_type": "markdown",
      "metadata": {
        "id": "view-in-github",
        "colab_type": "text"
      },
      "source": [
        "<a href=\"https://colab.research.google.com/github/sean950722/hello/blob/main/%E3%80%8CEX04_06_ipynb%E3%80%8D%E7%9A%84%E5%89%AF%E6%9C%AC.ipynb\" target=\"_parent\"><img src=\"https://colab.research.google.com/assets/colab-badge.svg\" alt=\"Open In Colab\"/></a>"
      ]
    },
    {
      "cell_type": "code",
      "source": [
        "from sklearn.feature_extraction.text import CountVectorizer\n",
        "texts = [\"I love programming.\", \"Programming is fun.\"]\n",
        "vectorizer = CountVectorizer()\n",
        "X = vectorizer.fit_transform(texts)"
      ],
      "metadata": {
        "id": "0U1Ojhy4f-iE"
      },
      "execution_count": null,
      "outputs": []
    },
    {
      "cell_type": "code",
      "source": [
        "print(vectorizer.get_feature_names_out())\n",
        "print(X.toarray())"
      ],
      "metadata": {
        "colab": {
          "base_uri": "https://localhost:8080/"
        },
        "id": "GSWoeqK2gAFn",
        "outputId": "21c73c1a-a49c-4786-d9eb-1c2bba8e2ab6"
      },
      "execution_count": null,
      "outputs": [
        {
          "output_type": "stream",
          "name": "stdout",
          "text": [
            "['fun' 'is' 'love' 'programming']\n",
            "[[0 0 1 1]\n",
            " [1 1 0 1]]\n"
          ]
        }
      ]
    },
    {
      "cell_type": "code",
      "source": [
        "from sklearn.feature_extraction.text import TfidfVectorizer\n",
        "texts = [\"I love programming.\", \"Programming is fun.\"]\n",
        "vectorizer = TfidfVectorizer()\n",
        "X = vectorizer.fit_transform(texts)"
      ],
      "metadata": {
        "id": "Hjhqj0VmgBwX"
      },
      "execution_count": null,
      "outputs": []
    },
    {
      "cell_type": "code",
      "source": [
        "print(vectorizer.get_feature_names_out())\n",
        "print(X.toarray())"
      ],
      "metadata": {
        "colab": {
          "base_uri": "https://localhost:8080/"
        },
        "id": "YNmfGAKUgENv",
        "outputId": "18cb387d-8edb-4a45-b8cf-d1b807c56bac"
      },
      "execution_count": null,
      "outputs": [
        {
          "output_type": "stream",
          "name": "stdout",
          "text": [
            "['fun' 'is' 'love' 'programming']\n",
            "[[0.         0.         0.81480247 0.57973867]\n",
            " [0.6316672  0.6316672  0.         0.44943642]]\n"
          ]
        }
      ]
    },
    {
      "cell_type": "code",
      "source": [
        "import jieba\n",
        "list(jieba.cut('太多的巧合就是有緣。'))"
      ],
      "metadata": {
        "colab": {
          "base_uri": "https://localhost:8080/"
        },
        "id": "5Lgdc0wcgFuv",
        "outputId": "473138f8-7b5e-4c7f-e081-10ebc2878006"
      },
      "execution_count": null,
      "outputs": [
        {
          "output_type": "stream",
          "name": "stderr",
          "text": [
            "Building prefix dict from the default dictionary ...\n",
            "DEBUG:jieba:Building prefix dict from the default dictionary ...\n",
            "Dumping model to file cache /tmp/jieba.cache\n",
            "DEBUG:jieba:Dumping model to file cache /tmp/jieba.cache\n",
            "Loading model cost 3.136 seconds.\n",
            "DEBUG:jieba:Loading model cost 3.136 seconds.\n",
            "Prefix dict has been built successfully.\n",
            "DEBUG:jieba:Prefix dict has been built successfully.\n"
          ]
        },
        {
          "output_type": "execute_result",
          "data": {
            "text/plain": [
              "['太多', '的', '巧合', '就是', '有緣', '。']"
            ]
          },
          "metadata": {},
          "execution_count": 5
        }
      ]
    },
    {
      "cell_type": "code",
      "source": [
        "!wget -O dict.txt https://raw.githubusercontent.com/imchihchao/aop113b/main/materials/04-dict.txt"
      ],
      "metadata": {
        "colab": {
          "base_uri": "https://localhost:8080/"
        },
        "id": "9lFbMK4IgIUv",
        "outputId": "789decda-5887-4f0e-a46f-724fe78087a6"
      },
      "execution_count": null,
      "outputs": [
        {
          "output_type": "stream",
          "name": "stdout",
          "text": [
            "--2025-06-12 07:29:53--  https://raw.githubusercontent.com/imchihchao/aop113b/main/materials/04-dict.txt\n",
            "Resolving raw.githubusercontent.com (raw.githubusercontent.com)... 185.199.108.133, 185.199.109.133, 185.199.111.133, ...\n",
            "Connecting to raw.githubusercontent.com (raw.githubusercontent.com)|185.199.108.133|:443... connected.\n",
            "HTTP request sent, awaiting response... 200 OK\n",
            "Length: 4154480 (4.0M) [application/octet-stream]\n",
            "Saving to: ‘dict.txt’\n",
            "\n",
            "dict.txt            100%[===================>]   3.96M  --.-KB/s    in 0.08s   \n",
            "\n",
            "2025-06-12 07:29:54 (48.0 MB/s) - ‘dict.txt’ saved [4154480/4154480]\n",
            "\n"
          ]
        }
      ]
    },
    {
      "cell_type": "code",
      "source": [
        "import jieba\n",
        "#繁中字典\n",
        "jieba.set_dictionary('dict.txt')"
      ],
      "metadata": {
        "id": "zpOh28oQgKKM"
      },
      "execution_count": null,
      "outputs": []
    },
    {
      "cell_type": "code",
      "source": [
        "!wget -O stopwords.txt https://raw.githubusercontent.com/imchihchao/aop113b/main/materials/04-stopwords.txt"
      ],
      "metadata": {
        "colab": {
          "base_uri": "https://localhost:8080/"
        },
        "id": "WKPx6Ay_goQD",
        "outputId": "9fa668e7-43e2-4b4c-c634-0760bb3e17ad"
      },
      "execution_count": null,
      "outputs": [
        {
          "output_type": "stream",
          "name": "stdout",
          "text": [
            "--2025-06-12 07:29:54--  https://raw.githubusercontent.com/imchihchao/aop113b/main/materials/04-stopwords.txt\n",
            "Resolving raw.githubusercontent.com (raw.githubusercontent.com)... 185.199.108.133, 185.199.109.133, 185.199.110.133, ...\n",
            "Connecting to raw.githubusercontent.com (raw.githubusercontent.com)|185.199.108.133|:443... connected.\n",
            "HTTP request sent, awaiting response... 200 OK\n",
            "Length: 8129 (7.9K) [text/plain]\n",
            "Saving to: ‘stopwords.txt’\n",
            "\n",
            "\rstopwords.txt         0%[                    ]       0  --.-KB/s               \rstopwords.txt       100%[===================>]   7.94K  --.-KB/s    in 0s      \n",
            "\n",
            "2025-06-12 07:29:54 (76.3 MB/s) - ‘stopwords.txt’ saved [8129/8129]\n",
            "\n"
          ]
        }
      ]
    },
    {
      "cell_type": "code",
      "source": [
        "import jieba\n",
        "# 載入停用詞表\n",
        "def load_stopwords(filepath):\n",
        "    with open(filepath, 'r', encoding='utf-8') as f:\n",
        "        stopwords = set(line.strip() for line in f if line.strip())\n",
        "    return stopwords\n",
        "# 分詞並過濾停用詞\n",
        "def jieba_cut_with_stopwords(text, stopwords):\n",
        "    words = jieba.cut(text)\n",
        "    return [word for word in words if word not in stopwords and word.strip() != '']\n",
        "# 使用範例\n",
        "stopwords = load_stopwords(\"stopwords.txt\")"
      ],
      "metadata": {
        "id": "UMxlEzMygqvw"
      },
      "execution_count": null,
      "outputs": []
    },
    {
      "cell_type": "code",
      "source": [
        "filtered_words = jieba_cut_with_stopwords('太多的巧合就是有緣。', stopwords)\n",
        "filtered_words"
      ],
      "metadata": {
        "colab": {
          "base_uri": "https://localhost:8080/"
        },
        "id": "FHrcwFTggs7R",
        "outputId": "55d2f52e-d718-4e36-d9db-ab86b041fac6"
      },
      "execution_count": null,
      "outputs": [
        {
          "output_type": "stream",
          "name": "stderr",
          "text": [
            "Building prefix dict from /content/dict.txt ...\n",
            "DEBUG:jieba:Building prefix dict from /content/dict.txt ...\n",
            "Dumping model to file cache /tmp/jieba.ueb620ec8402181953a0299d7957c0d6e.cache\n",
            "DEBUG:jieba:Dumping model to file cache /tmp/jieba.ueb620ec8402181953a0299d7957c0d6e.cache\n",
            "Loading model cost 3.200 seconds.\n",
            "DEBUG:jieba:Loading model cost 3.200 seconds.\n",
            "Prefix dict has been built successfully.\n",
            "DEBUG:jieba:Prefix dict has been built successfully.\n"
          ]
        },
        {
          "output_type": "execute_result",
          "data": {
            "text/plain": [
              "['太多', '巧合', '有緣']"
            ]
          },
          "metadata": {},
          "execution_count": 10
        }
      ]
    },
    {
      "cell_type": "code",
      "source": [
        "import jieba\n",
        "saying = [\"努力也是一種天賦。\",\"太多的巧合就是有緣。\"]\n",
        "saying = [ ' '.join(list(jieba.cut(s))) for s in saying ]\n",
        "saying"
      ],
      "metadata": {
        "colab": {
          "base_uri": "https://localhost:8080/"
        },
        "id": "2l6c_9Yyguh9",
        "outputId": "2f12f860-1c67-4ecb-d251-14c53ed9cae8"
      },
      "execution_count": null,
      "outputs": [
        {
          "output_type": "execute_result",
          "data": {
            "text/plain": [
              "['努力 也 是 一種 天賦 。', '太多 的 巧合 就是 有緣 。']"
            ]
          },
          "metadata": {},
          "execution_count": 11
        }
      ]
    },
    {
      "cell_type": "markdown",
      "source": [
        "## 問題定義"
      ],
      "metadata": {
        "id": "LuGH8K4Mbmmp"
      }
    },
    {
      "cell_type": "markdown",
      "source": [
        "## 資料收集"
      ],
      "metadata": {
        "id": "5YCyVo5Xbuq4"
      }
    },
    {
      "cell_type": "code",
      "source": [
        "import pandas as pd\n",
        "url = 'https://raw.githubusercontent.com/imchihchao/aop113b/main/materials/04-ettoday_news.csv'\n",
        "df = pd.read_csv(url)\n",
        "df.head()"
      ],
      "metadata": {
        "colab": {
          "base_uri": "https://localhost:8080/",
          "height": 206
        },
        "id": "gHSXd32Xgwa4",
        "outputId": "9204d1b3-18ab-4f6a-81f7-e50561ea69ad"
      },
      "execution_count": null,
      "outputs": [
        {
          "output_type": "execute_result",
          "data": {
            "text/plain": [
              "   類別                                   標題\n",
              "0  政治  青年座談不被AI取代的關鍵力　葉丙成：只有這兩種人才能真正把握時間紅利\n",
              "1  政治               蕭美琴直播初體驗曝「咪琴嚴選」　邀網友挺花蓮\n",
              "2  政治                 疑似國軍「在美受訓」照曝光！　陸軍不評論\n",
              "3  政治      「蔡英文、柯文哲有談NCC」　府：沒談人選、政黨比例更沒私下喬\n",
              "4  政治      總統府否認蔡英文向柯喬NCC委員　黃國昌嗆：醜聞被揭露還敢說謊"
            ],
            "text/html": [
              "\n",
              "  <div id=\"df-e689a23d-c534-47cf-806e-f990d6995dec\" class=\"colab-df-container\">\n",
              "    <div>\n",
              "<style scoped>\n",
              "    .dataframe tbody tr th:only-of-type {\n",
              "        vertical-align: middle;\n",
              "    }\n",
              "\n",
              "    .dataframe tbody tr th {\n",
              "        vertical-align: top;\n",
              "    }\n",
              "\n",
              "    .dataframe thead th {\n",
              "        text-align: right;\n",
              "    }\n",
              "</style>\n",
              "<table border=\"1\" class=\"dataframe\">\n",
              "  <thead>\n",
              "    <tr style=\"text-align: right;\">\n",
              "      <th></th>\n",
              "      <th>類別</th>\n",
              "      <th>標題</th>\n",
              "    </tr>\n",
              "  </thead>\n",
              "  <tbody>\n",
              "    <tr>\n",
              "      <th>0</th>\n",
              "      <td>政治</td>\n",
              "      <td>青年座談不被AI取代的關鍵力　葉丙成：只有這兩種人才能真正把握時間紅利</td>\n",
              "    </tr>\n",
              "    <tr>\n",
              "      <th>1</th>\n",
              "      <td>政治</td>\n",
              "      <td>蕭美琴直播初體驗曝「咪琴嚴選」　邀網友挺花蓮</td>\n",
              "    </tr>\n",
              "    <tr>\n",
              "      <th>2</th>\n",
              "      <td>政治</td>\n",
              "      <td>疑似國軍「在美受訓」照曝光！　陸軍不評論</td>\n",
              "    </tr>\n",
              "    <tr>\n",
              "      <th>3</th>\n",
              "      <td>政治</td>\n",
              "      <td>「蔡英文、柯文哲有談NCC」　府：沒談人選、政黨比例更沒私下喬</td>\n",
              "    </tr>\n",
              "    <tr>\n",
              "      <th>4</th>\n",
              "      <td>政治</td>\n",
              "      <td>總統府否認蔡英文向柯喬NCC委員　黃國昌嗆：醜聞被揭露還敢說謊</td>\n",
              "    </tr>\n",
              "  </tbody>\n",
              "</table>\n",
              "</div>\n",
              "    <div class=\"colab-df-buttons\">\n",
              "\n",
              "  <div class=\"colab-df-container\">\n",
              "    <button class=\"colab-df-convert\" onclick=\"convertToInteractive('df-e689a23d-c534-47cf-806e-f990d6995dec')\"\n",
              "            title=\"Convert this dataframe to an interactive table.\"\n",
              "            style=\"display:none;\">\n",
              "\n",
              "  <svg xmlns=\"http://www.w3.org/2000/svg\" height=\"24px\" viewBox=\"0 -960 960 960\">\n",
              "    <path d=\"M120-120v-720h720v720H120Zm60-500h600v-160H180v160Zm220 220h160v-160H400v160Zm0 220h160v-160H400v160ZM180-400h160v-160H180v160Zm440 0h160v-160H620v160ZM180-180h160v-160H180v160Zm440 0h160v-160H620v160Z\"/>\n",
              "  </svg>\n",
              "    </button>\n",
              "\n",
              "  <style>\n",
              "    .colab-df-container {\n",
              "      display:flex;\n",
              "      gap: 12px;\n",
              "    }\n",
              "\n",
              "    .colab-df-convert {\n",
              "      background-color: #E8F0FE;\n",
              "      border: none;\n",
              "      border-radius: 50%;\n",
              "      cursor: pointer;\n",
              "      display: none;\n",
              "      fill: #1967D2;\n",
              "      height: 32px;\n",
              "      padding: 0 0 0 0;\n",
              "      width: 32px;\n",
              "    }\n",
              "\n",
              "    .colab-df-convert:hover {\n",
              "      background-color: #E2EBFA;\n",
              "      box-shadow: 0px 1px 2px rgba(60, 64, 67, 0.3), 0px 1px 3px 1px rgba(60, 64, 67, 0.15);\n",
              "      fill: #174EA6;\n",
              "    }\n",
              "\n",
              "    .colab-df-buttons div {\n",
              "      margin-bottom: 4px;\n",
              "    }\n",
              "\n",
              "    [theme=dark] .colab-df-convert {\n",
              "      background-color: #3B4455;\n",
              "      fill: #D2E3FC;\n",
              "    }\n",
              "\n",
              "    [theme=dark] .colab-df-convert:hover {\n",
              "      background-color: #434B5C;\n",
              "      box-shadow: 0px 1px 3px 1px rgba(0, 0, 0, 0.15);\n",
              "      filter: drop-shadow(0px 1px 2px rgba(0, 0, 0, 0.3));\n",
              "      fill: #FFFFFF;\n",
              "    }\n",
              "  </style>\n",
              "\n",
              "    <script>\n",
              "      const buttonEl =\n",
              "        document.querySelector('#df-e689a23d-c534-47cf-806e-f990d6995dec button.colab-df-convert');\n",
              "      buttonEl.style.display =\n",
              "        google.colab.kernel.accessAllowed ? 'block' : 'none';\n",
              "\n",
              "      async function convertToInteractive(key) {\n",
              "        const element = document.querySelector('#df-e689a23d-c534-47cf-806e-f990d6995dec');\n",
              "        const dataTable =\n",
              "          await google.colab.kernel.invokeFunction('convertToInteractive',\n",
              "                                                    [key], {});\n",
              "        if (!dataTable) return;\n",
              "\n",
              "        const docLinkHtml = 'Like what you see? Visit the ' +\n",
              "          '<a target=\"_blank\" href=https://colab.research.google.com/notebooks/data_table.ipynb>data table notebook</a>'\n",
              "          + ' to learn more about interactive tables.';\n",
              "        element.innerHTML = '';\n",
              "        dataTable['output_type'] = 'display_data';\n",
              "        await google.colab.output.renderOutput(dataTable, element);\n",
              "        const docLink = document.createElement('div');\n",
              "        docLink.innerHTML = docLinkHtml;\n",
              "        element.appendChild(docLink);\n",
              "      }\n",
              "    </script>\n",
              "  </div>\n",
              "\n",
              "\n",
              "    <div id=\"df-03147f1c-e711-47e7-a70c-e367b50d2257\">\n",
              "      <button class=\"colab-df-quickchart\" onclick=\"quickchart('df-03147f1c-e711-47e7-a70c-e367b50d2257')\"\n",
              "                title=\"Suggest charts\"\n",
              "                style=\"display:none;\">\n",
              "\n",
              "<svg xmlns=\"http://www.w3.org/2000/svg\" height=\"24px\"viewBox=\"0 0 24 24\"\n",
              "     width=\"24px\">\n",
              "    <g>\n",
              "        <path d=\"M19 3H5c-1.1 0-2 .9-2 2v14c0 1.1.9 2 2 2h14c1.1 0 2-.9 2-2V5c0-1.1-.9-2-2-2zM9 17H7v-7h2v7zm4 0h-2V7h2v10zm4 0h-2v-4h2v4z\"/>\n",
              "    </g>\n",
              "</svg>\n",
              "      </button>\n",
              "\n",
              "<style>\n",
              "  .colab-df-quickchart {\n",
              "      --bg-color: #E8F0FE;\n",
              "      --fill-color: #1967D2;\n",
              "      --hover-bg-color: #E2EBFA;\n",
              "      --hover-fill-color: #174EA6;\n",
              "      --disabled-fill-color: #AAA;\n",
              "      --disabled-bg-color: #DDD;\n",
              "  }\n",
              "\n",
              "  [theme=dark] .colab-df-quickchart {\n",
              "      --bg-color: #3B4455;\n",
              "      --fill-color: #D2E3FC;\n",
              "      --hover-bg-color: #434B5C;\n",
              "      --hover-fill-color: #FFFFFF;\n",
              "      --disabled-bg-color: #3B4455;\n",
              "      --disabled-fill-color: #666;\n",
              "  }\n",
              "\n",
              "  .colab-df-quickchart {\n",
              "    background-color: var(--bg-color);\n",
              "    border: none;\n",
              "    border-radius: 50%;\n",
              "    cursor: pointer;\n",
              "    display: none;\n",
              "    fill: var(--fill-color);\n",
              "    height: 32px;\n",
              "    padding: 0;\n",
              "    width: 32px;\n",
              "  }\n",
              "\n",
              "  .colab-df-quickchart:hover {\n",
              "    background-color: var(--hover-bg-color);\n",
              "    box-shadow: 0 1px 2px rgba(60, 64, 67, 0.3), 0 1px 3px 1px rgba(60, 64, 67, 0.15);\n",
              "    fill: var(--button-hover-fill-color);\n",
              "  }\n",
              "\n",
              "  .colab-df-quickchart-complete:disabled,\n",
              "  .colab-df-quickchart-complete:disabled:hover {\n",
              "    background-color: var(--disabled-bg-color);\n",
              "    fill: var(--disabled-fill-color);\n",
              "    box-shadow: none;\n",
              "  }\n",
              "\n",
              "  .colab-df-spinner {\n",
              "    border: 2px solid var(--fill-color);\n",
              "    border-color: transparent;\n",
              "    border-bottom-color: var(--fill-color);\n",
              "    animation:\n",
              "      spin 1s steps(1) infinite;\n",
              "  }\n",
              "\n",
              "  @keyframes spin {\n",
              "    0% {\n",
              "      border-color: transparent;\n",
              "      border-bottom-color: var(--fill-color);\n",
              "      border-left-color: var(--fill-color);\n",
              "    }\n",
              "    20% {\n",
              "      border-color: transparent;\n",
              "      border-left-color: var(--fill-color);\n",
              "      border-top-color: var(--fill-color);\n",
              "    }\n",
              "    30% {\n",
              "      border-color: transparent;\n",
              "      border-left-color: var(--fill-color);\n",
              "      border-top-color: var(--fill-color);\n",
              "      border-right-color: var(--fill-color);\n",
              "    }\n",
              "    40% {\n",
              "      border-color: transparent;\n",
              "      border-right-color: var(--fill-color);\n",
              "      border-top-color: var(--fill-color);\n",
              "    }\n",
              "    60% {\n",
              "      border-color: transparent;\n",
              "      border-right-color: var(--fill-color);\n",
              "    }\n",
              "    80% {\n",
              "      border-color: transparent;\n",
              "      border-right-color: var(--fill-color);\n",
              "      border-bottom-color: var(--fill-color);\n",
              "    }\n",
              "    90% {\n",
              "      border-color: transparent;\n",
              "      border-bottom-color: var(--fill-color);\n",
              "    }\n",
              "  }\n",
              "</style>\n",
              "\n",
              "      <script>\n",
              "        async function quickchart(key) {\n",
              "          const quickchartButtonEl =\n",
              "            document.querySelector('#' + key + ' button');\n",
              "          quickchartButtonEl.disabled = true;  // To prevent multiple clicks.\n",
              "          quickchartButtonEl.classList.add('colab-df-spinner');\n",
              "          try {\n",
              "            const charts = await google.colab.kernel.invokeFunction(\n",
              "                'suggestCharts', [key], {});\n",
              "          } catch (error) {\n",
              "            console.error('Error during call to suggestCharts:', error);\n",
              "          }\n",
              "          quickchartButtonEl.classList.remove('colab-df-spinner');\n",
              "          quickchartButtonEl.classList.add('colab-df-quickchart-complete');\n",
              "        }\n",
              "        (() => {\n",
              "          let quickchartButtonEl =\n",
              "            document.querySelector('#df-03147f1c-e711-47e7-a70c-e367b50d2257 button');\n",
              "          quickchartButtonEl.style.display =\n",
              "            google.colab.kernel.accessAllowed ? 'block' : 'none';\n",
              "        })();\n",
              "      </script>\n",
              "    </div>\n",
              "\n",
              "    </div>\n",
              "  </div>\n"
            ],
            "application/vnd.google.colaboratory.intrinsic+json": {
              "type": "dataframe",
              "variable_name": "df",
              "summary": "{\n  \"name\": \"df\",\n  \"rows\": 29216,\n  \"fields\": [\n    {\n      \"column\": \"\\u985e\\u5225\",\n      \"properties\": {\n        \"dtype\": \"category\",\n        \"num_unique_values\": 10,\n        \"samples\": [\n          \"\\u904a\\u6232\",\n          \"\\u8ca1\\u7d93\",\n          \"\\u9ad4\\u80b2\"\n        ],\n        \"semantic_type\": \"\",\n        \"description\": \"\"\n      }\n    },\n    {\n      \"column\": \"\\u6a19\\u984c\",\n      \"properties\": {\n        \"dtype\": \"string\",\n        \"num_unique_values\": 29193,\n        \"samples\": [\n          \"\\u300c\\u5f35\\u5bb6\\u6ab8\\u6aac\\u7da0\\u8336\\u300d\\u8d85\\u706b\\uff01\\u7db2\\u6572\\u7897\\u300c\\u9019\\u6b3e\\u300d\\u7d05\\u8336\\uff1a\\u66fe\\u6dd1\\u6709\\u6599\",\n          \"\\u8fad\\u4fee\\u9ad8\\u4e2d\\u7591\\u906d\\u6dd8\\u7a7a\\uff011\\u4eba\\u8072\\u62bc\\u7372\\u51c6\\u3000\\u5275\\u8fa6\\u4eba\\u59bb\\u5152\\u767c\\u8072\\u660e\\u5426\\u8a8d\",\n          \"\\u9810\\u544a\\u56b4\\u5be9\\u5169\\u5cb8\\u5b97\\u6559\\u4ea4\\u6d41\\u3000\\u9678\\u59d4\\u6703\\uff1a\\u902e\\u6355\\u53f0\\u7063\\u4e00\\u8cab\\u9053\\u9053\\u89aa\\u662f\\u6700\\u5927\\u963b\\u7919\"\n        ],\n        \"semantic_type\": \"\",\n        \"description\": \"\"\n      }\n    }\n  ]\n}"
            }
          },
          "metadata": {},
          "execution_count": 12
        }
      ]
    },
    {
      "cell_type": "markdown",
      "source": [
        "## 資料前處理"
      ],
      "metadata": {
        "id": "C2u_ggR-eJ1d"
      }
    },
    {
      "cell_type": "markdown",
      "source": [
        "### 資料清理"
      ],
      "metadata": {
        "id": "7yHPecJ2eMid"
      }
    },
    {
      "cell_type": "code",
      "source": [
        "df.info()"
      ],
      "metadata": {
        "colab": {
          "base_uri": "https://localhost:8080/"
        },
        "id": "NtVr7Z4Ig2vi",
        "outputId": "bf9a96e9-f39c-4ca6-faa7-8a75c85241d1"
      },
      "execution_count": null,
      "outputs": [
        {
          "output_type": "stream",
          "name": "stdout",
          "text": [
            "<class 'pandas.core.frame.DataFrame'>\n",
            "RangeIndex: 29216 entries, 0 to 29215\n",
            "Data columns (total 2 columns):\n",
            " #   Column  Non-Null Count  Dtype \n",
            "---  ------  --------------  ----- \n",
            " 0   類別      29216 non-null  object\n",
            " 1   標題      29216 non-null  object\n",
            "dtypes: object(2)\n",
            "memory usage: 456.6+ KB\n"
          ]
        }
      ]
    },
    {
      "cell_type": "markdown",
      "source": [
        "### 探索性分析"
      ],
      "metadata": {
        "id": "iMtUvzH_eYkd"
      }
    },
    {
      "cell_type": "markdown",
      "source": [
        "### 資料分割"
      ],
      "metadata": {
        "id": "WmpIVCTRfD3t"
      }
    },
    {
      "cell_type": "code",
      "source": [
        "!wget -O dict.txt https://raw.githubusercontent.com/imchihchao/aop113b/main/materials/04-dict.txt\n",
        "!wget -O stopwords.txt https://raw.githubusercontent.com/imchihchao/aop113b/main/materials/04-stopwords.txt"
      ],
      "metadata": {
        "colab": {
          "base_uri": "https://localhost:8080/"
        },
        "id": "bMpaC1yTg_Qq",
        "outputId": "4833d123-2181-4562-daff-d6fe5da141bf"
      },
      "execution_count": null,
      "outputs": [
        {
          "output_type": "stream",
          "name": "stdout",
          "text": [
            "--2025-06-12 07:29:59--  https://raw.githubusercontent.com/imchihchao/aop113b/main/materials/04-dict.txt\n",
            "Resolving raw.githubusercontent.com (raw.githubusercontent.com)... 185.199.108.133, 185.199.111.133, 185.199.110.133, ...\n",
            "Connecting to raw.githubusercontent.com (raw.githubusercontent.com)|185.199.108.133|:443... connected.\n",
            "HTTP request sent, awaiting response... 200 OK\n",
            "Length: 4154480 (4.0M) [application/octet-stream]\n",
            "Saving to: ‘dict.txt’\n",
            "\n",
            "dict.txt            100%[===================>]   3.96M  5.53MB/s    in 0.7s    \n",
            "\n",
            "2025-06-12 07:30:00 (5.53 MB/s) - ‘dict.txt’ saved [4154480/4154480]\n",
            "\n",
            "--2025-06-12 07:30:00--  https://raw.githubusercontent.com/imchihchao/aop113b/main/materials/04-stopwords.txt\n",
            "Resolving raw.githubusercontent.com (raw.githubusercontent.com)... 185.199.108.133, 185.199.109.133, 185.199.110.133, ...\n",
            "Connecting to raw.githubusercontent.com (raw.githubusercontent.com)|185.199.108.133|:443... connected.\n",
            "HTTP request sent, awaiting response... 200 OK\n",
            "Length: 8129 (7.9K) [text/plain]\n",
            "Saving to: ‘stopwords.txt’\n",
            "\n",
            "stopwords.txt       100%[===================>]   7.94K  --.-KB/s    in 0s      \n",
            "\n",
            "2025-06-12 07:30:00 (52.6 MB/s) - ‘stopwords.txt’ saved [8129/8129]\n",
            "\n"
          ]
        }
      ]
    },
    {
      "cell_type": "code",
      "source": [
        "import jieba\n",
        "jieba.set_dictionary('dict.txt')\n",
        "def load_stopwords(filepath):\n",
        "    with open(filepath, 'r', encoding='utf-8') as f:\n",
        "        stopwords = set(line.strip() for line in f if line.strip())\n",
        "    return stopwords\n",
        "def jieba_cut_with_stopwords(text, stopwords):\n",
        "    words = jieba.cut(text)\n",
        "    return [word for word in words if word not in stopwords and word.strip() != '']\n",
        "\n",
        "stopwords = load_stopwords(\"stopwords.txt\")"
      ],
      "metadata": {
        "id": "EmWcymwUhDmZ"
      },
      "execution_count": null,
      "outputs": []
    },
    {
      "cell_type": "code",
      "source": [
        "df['標題'] = df['標題'].apply(lambda x: ' '.join(jieba_cut_with_stopwords(x, stopwords)))"
      ],
      "metadata": {
        "colab": {
          "base_uri": "https://localhost:8080/"
        },
        "id": "3JsyE5RxhF-k",
        "outputId": "67e681be-eccf-4ff7-874f-18ee64649c0c"
      },
      "execution_count": null,
      "outputs": [
        {
          "output_type": "stream",
          "name": "stderr",
          "text": [
            "Building prefix dict from /content/dict.txt ...\n",
            "DEBUG:jieba:Building prefix dict from /content/dict.txt ...\n",
            "Dumping model to file cache /tmp/jieba.ueb620ec8402181953a0299d7957c0d6e.cache\n",
            "DEBUG:jieba:Dumping model to file cache /tmp/jieba.ueb620ec8402181953a0299d7957c0d6e.cache\n",
            "Loading model cost 4.499 seconds.\n",
            "DEBUG:jieba:Loading model cost 4.499 seconds.\n",
            "Prefix dict has been built successfully.\n",
            "DEBUG:jieba:Prefix dict has been built successfully.\n"
          ]
        }
      ]
    },
    {
      "cell_type": "code",
      "source": [
        "df"
      ],
      "metadata": {
        "id": "eKcPHn4nhIHp"
      },
      "execution_count": null,
      "outputs": []
    },
    {
      "cell_type": "code",
      "source": [
        "X,y = df['標題'],df['類別']"
      ],
      "metadata": {
        "id": "O0CJtYqqhLOB"
      },
      "execution_count": null,
      "outputs": []
    },
    {
      "cell_type": "code",
      "source": [
        "from sklearn.model_selection import train_test_split\n",
        "X_train, X_test, y_train, y_test = train_test_split(X, y, test_size=0.2, random_state=42)"
      ],
      "metadata": {
        "id": "JCaNTUPDjkhh"
      },
      "execution_count": null,
      "outputs": []
    },
    {
      "cell_type": "markdown",
      "source": [
        "### 類別轉換"
      ],
      "metadata": {
        "id": "vQoUGg1t21Yb"
      }
    },
    {
      "cell_type": "code",
      "source": [
        "from sklearn.preprocessing import LabelEncoder\n",
        "label_encoder = LabelEncoder()\n",
        "y_train = label_encoder.fit_transform(y_train)\n",
        "y_test = label_encoder.transform(y_test)"
      ],
      "metadata": {
        "id": "-ssxqtXyjnp2"
      },
      "execution_count": null,
      "outputs": []
    },
    {
      "cell_type": "code",
      "source": [
        "from sklearn.feature_extraction.text import TfidfVectorizer\n",
        "vectorizer = TfidfVectorizer()\n",
        "X_train = vectorizer.fit_transform(X_train)\n",
        "X_test = vectorizer.transform(X_test)"
      ],
      "metadata": {
        "id": "hHhxrel-jpFl"
      },
      "execution_count": null,
      "outputs": []
    },
    {
      "cell_type": "markdown",
      "source": [
        "### 特徵縮放"
      ],
      "metadata": {
        "id": "GBE6NKnwesSN"
      }
    },
    {
      "cell_type": "markdown",
      "source": [
        "## 模型訓練"
      ],
      "metadata": {
        "id": "lGoI1XOFfQhd"
      }
    },
    {
      "cell_type": "code",
      "source": [
        "from sklearn.naive_bayes import MultinomialNB\n",
        "mnb = MultinomialNB(alpha=1.0)\n",
        "mnb.fit(X_train, y_train)"
      ],
      "metadata": {
        "id": "eG_PMILEjrOy"
      },
      "execution_count": null,
      "outputs": []
    },
    {
      "cell_type": "code",
      "source": [
        "mnb.score(X_train, y_train)"
      ],
      "metadata": {
        "id": "qhoT2NhcjtA4"
      },
      "execution_count": null,
      "outputs": []
    },
    {
      "cell_type": "markdown",
      "source": [
        "## 模型評估"
      ],
      "metadata": {
        "id": "EvdSOhFLfjVP"
      }
    },
    {
      "cell_type": "markdown",
      "source": [
        "## 模型調整"
      ],
      "metadata": {
        "id": "B4c2Nvf1f0c1"
      }
    },
    {
      "cell_type": "markdown",
      "source": [
        "## 模型部署"
      ],
      "metadata": {
        "id": "Wb2EXoPNgH71"
      }
    },
    {
      "cell_type": "markdown",
      "source": [
        "### 儲存模型"
      ],
      "metadata": {
        "id": "wZaQ7GkhodIF"
      }
    },
    {
      "cell_type": "markdown",
      "source": [
        "### 推論預測"
      ],
      "metadata": {
        "id": "3ob1YJN7ovpH"
      }
    },
    {
      "cell_type": "code",
      "source": [
        "text = '桌球/開戰?嗆體育署憑一面之詞霸凌桌協 選訓委員:勿用政治手段處理'\n",
        "s = vectorizer.transform([' '.join(jieba_cut_with_stopwords(text, stopwords))])\n",
        "c = mnb.predict(s)[0]\n",
        "category = label_encoder.classes_[c]\n",
        "print(category)"
      ],
      "metadata": {
        "id": "ddEudEgJjvrd"
      },
      "execution_count": null,
      "outputs": []
    },
    {
      "cell_type": "code",
      "source": [],
      "metadata": {
        "id": "xIkmA6Pzjv7n"
      },
      "execution_count": null,
      "outputs": []
    }
  ]
}