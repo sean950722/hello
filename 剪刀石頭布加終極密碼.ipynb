{
  "nbformat": 4,
  "nbformat_minor": 0,
  "metadata": {
    "colab": {
      "provenance": [],
      "authorship_tag": "ABX9TyNIX40pQCmmhM33mckbkmRr",
      "include_colab_link": true
    },
    "kernelspec": {
      "name": "python3",
      "display_name": "Python 3"
    },
    "language_info": {
      "name": "python"
    }
  },
  "cells": [
    {
      "cell_type": "markdown",
      "metadata": {
        "id": "view-in-github",
        "colab_type": "text"
      },
      "source": [
        "<a href=\"https://colab.research.google.com/github/sean950722/hello/blob/main/%E5%89%AA%E5%88%80%E7%9F%B3%E9%A0%AD%E5%B8%83%E5%8A%A0%E7%B5%82%E6%A5%B5%E5%AF%86%E7%A2%BC.ipynb\" target=\"_parent\"><img src=\"https://colab.research.google.com/assets/colab-badge.svg\" alt=\"Open In Colab\"/></a>"
      ]
    },
    {
      "cell_type": "code",
      "execution_count": 2,
      "metadata": {
        "colab": {
          "base_uri": "https://localhost:8080/"
        },
        "id": "oEwQsiDRQEdr",
        "outputId": "1f7c7832-4ece-42c4-b8cf-5b4d1c3dd9df"
      },
      "outputs": [
        {
          "output_type": "stream",
          "name": "stdout",
          "text": [
            "範圍: 0 - 100\n",
            "猜拳決定誰猜\n",
            "請輸入你要出甚麼(剪刀/石頭/布):布\n",
            "電腦出: 剪刀\n",
            "電腦猜: 69\n",
            "新的邊界: 0 ～ 69 再猜拳一次\n",
            "猜拳決定誰猜\n",
            "請輸入你要出甚麼(剪刀/石頭/布):布\n",
            "電腦出: 石頭\n",
            "你贏了，你猜\n",
            "範圍: 0 - 69\n",
            "請輸入你的猜測:30\n",
            "新的邊界: 0 ～ 30 再猜拳一次\n",
            "猜拳決定誰猜\n",
            "請輸入你要出甚麼(剪刀/石頭/布):布\n",
            "電腦出: 石頭\n",
            "你贏了，你猜\n",
            "範圍: 0 - 30\n",
            "請輸入你的猜測:25\n",
            "新的邊界: 0 ～ 25 再猜拳一次\n",
            "猜拳決定誰猜\n",
            "請輸入你要出甚麼(剪刀/石頭/布):布\n",
            "電腦出: 剪刀\n",
            "電腦猜: 9\n",
            "新的邊界: 0 ～ 9 再猜拳一次\n",
            "猜拳決定誰猜\n",
            "請輸入你要出甚麼(剪刀/石頭/布):布\n",
            "電腦出: 剪刀\n",
            "電腦猜: 4\n",
            "電腦猜中了，答案是 4\n"
          ]
        }
      ],
      "source": [
        "#每次都要跟電腦猜拳決定誰猜數字\n",
        "import random\n",
        "bomb=random.randint(1,99)\n",
        "#左右邊界設定\n",
        "left=0\n",
        "right=100\n",
        "print(\"範圍:\",left,\"-\",right)\n",
        "#先猜拳決定誰猜\n",
        "while True:\n",
        "  print(\"猜拳決定誰猜\")\n",
        "  computer=random.choice([\"剪刀\",\"石頭\",\"布\"])\n",
        "  player=input(\"請輸入你要出甚麼(剪刀/石頭/布):\")\n",
        "  while player==computer:\n",
        "    print(\"平手\")\n",
        "    player=input(\"再猜一次(剪刀/石頭/布):\")\n",
        "    computer=random.choice([\"剪刀\",\"石頭\",\"布\"])\n",
        "  if (computer==\"剪刀\" and player==\"石頭\") or (computer==\"石頭\" and player==\"布\") or (computer==\"布\" and player==\"剪刀\"):\n",
        "    print(\"電腦出:\",computer)\n",
        "    print(\"你贏了，你猜\")\n",
        "    print(\"範圍:\",left,\"-\",right)\n",
        "    playerguess=int( input(\"請輸入你的猜測:\") )\n",
        "    if playerguess<left or playerguess>right:\n",
        "      print(\"超出邊界，再猜拳一次\")\n",
        "    elif playerguess<bomb:\n",
        "      left=playerguess\n",
        "      print(\"新的邊界:\",left,\"～\",right,\"再猜拳一次\")\n",
        "    elif playerguess==bomb:\n",
        "      print(\"你猜中了，答案是\",playerguess)\n",
        "      break\n",
        "    else:\n",
        "      right=playerguess\n",
        "      if playerguess!=bomb:\n",
        "        print(\"新的邊界:\",left,\"～\",right,\"再猜拳一次\")\n",
        "  else:\n",
        "    print(\"電腦出:\",computer)\n",
        "    computerguess=random.randint(left,right)\n",
        "    print(\"電腦猜:\",computerguess)\n",
        "    if computerguess<bomb:\n",
        "      left=computerguess\n",
        "      print(\"新的邊界:\",left,\"～\",right,\"再猜拳一次\")\n",
        "    elif computerguess==bomb:\n",
        "      print(\"電腦猜中了，答案是\",computerguess)\n",
        "      break\n",
        "    else:\n",
        "      right=computerguess\n",
        "      if computerguess!=bomb:\n",
        "        print(\"新的邊界:\",left,\"～\",right,\"再猜拳一次\")\n",
        "\n"
      ]
    }
  ]
}