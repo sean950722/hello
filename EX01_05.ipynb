{
  "nbformat": 4,
  "nbformat_minor": 0,
  "metadata": {
    "colab": {
      "provenance": [],
      "authorship_tag": "ABX9TyPvyPl2iyPhk54aouKVVKmt",
      "include_colab_link": true
    },
    "kernelspec": {
      "name": "python3",
      "display_name": "Python 3"
    },
    "language_info": {
      "name": "python"
    }
  },
  "cells": [
    {
      "cell_type": "markdown",
      "metadata": {
        "id": "view-in-github",
        "colab_type": "text"
      },
      "source": [
        "<a href=\"https://colab.research.google.com/github/sean950722/hello/blob/main/EX01_05.ipynb\" target=\"_parent\"><img src=\"https://colab.research.google.com/assets/colab-badge.svg\" alt=\"Open In Colab\"/></a>"
      ]
    },
    {
      "cell_type": "code",
      "execution_count": 1,
      "metadata": {
        "colab": {
          "base_uri": "https://localhost:8080/"
        },
        "id": "WVCd8k4pWmo1",
        "outputId": "b2db7563-12ed-4373-f648-74698a4c1e1a"
      },
      "outputs": [
        {
          "output_type": "stream",
          "name": "stdout",
          "text": [
            "e8\n",
            "you had me at hello.\n",
            "w}(pil(um(i|(pmttw6\n"
          ]
        }
      ],
      "source": [
        "act=input()\n",
        "txt=input()\n",
        "\n",
        "act_type=act[0]\n",
        "key=int(act[1:])\n",
        "ntxt=''\n",
        "\n",
        "if act_type=='d':\n",
        "    for c in txt:\n",
        "      nc=ord(c)-key\n",
        "      ntxt=ntxt+chr(nc)\n",
        "\n",
        "else:\n",
        "  for c in txt:\n",
        "    nc=ord(c)+key\n",
        "    ntxt=ntxt+chr(nc)\n",
        "\n",
        "print(ntxt)"
      ]
    }
  ]
}