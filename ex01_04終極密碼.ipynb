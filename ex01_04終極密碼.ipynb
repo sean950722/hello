{
  "nbformat": 4,
  "nbformat_minor": 0,
  "metadata": {
    "colab": {
      "provenance": [],
      "authorship_tag": "ABX9TyNnJe5ApIc6ey6fCdZSc2P5",
      "include_colab_link": true
    },
    "kernelspec": {
      "name": "python3",
      "display_name": "Python 3"
    },
    "language_info": {
      "name": "python"
    }
  },
  "cells": [
    {
      "cell_type": "markdown",
      "metadata": {
        "id": "view-in-github",
        "colab_type": "text"
      },
      "source": [
        "<a href=\"https://colab.research.google.com/github/sean950722/hello/blob/main/ex01_04%E7%B5%82%E6%A5%B5%E5%AF%86%E7%A2%BC.ipynb\" target=\"_parent\"><img src=\"https://colab.research.google.com/assets/colab-badge.svg\" alt=\"Open In Colab\"/></a>"
      ]
    },
    {
      "cell_type": "code",
      "execution_count": 1,
      "metadata": {
        "colab": {
          "base_uri": "https://localhost:8080/"
        },
        "id": "20-fds7dxRun",
        "outputId": "e03b08f6-07f5-4cd5-aa5c-ee0faa058de7"
      },
      "outputs": [
        {
          "output_type": "stream",
          "name": "stdout",
          "text": [
            "請輸入你的猜測:50\n",
            "新的邊界: 50 ～ 100\n",
            "請輸入你的猜測:60\n",
            "新的邊界: 60 ～ 100\n",
            "請輸入你的猜測:80\n",
            "新的邊界: 80 ～ 100\n",
            "請輸入你的猜測:90\n",
            "新的邊界: 80 ～ 90\n",
            "請輸入你的猜測:85\n",
            "猜中了!!!\n"
          ]
        }
      ],
      "source": [
        "import random\n",
        "bomb=random.randint(1,99)\n",
        "#左右邊界設定\n",
        "left=0\n",
        "right=100\n",
        "player=int( input(\"請輸入你的猜測:\") )\n",
        "while(player!=bomb):\n",
        "  if player<left or player>right:\n",
        "    print(\"超出邊界\")\n",
        "    player=int( input(\"請輸入你的猜測:\") )\n",
        "  elif player<bomb:\n",
        "    left=player\n",
        "    print(\"新的邊界:\",left,\"～\",right)\n",
        "    player=int( input(\"請輸入你的猜測:\") )\n",
        "  else:\n",
        "    right=player\n",
        "    print(\"新的邊界:\",left,\"～\",right)\n",
        "    player=int( input(\"請輸入你的猜測:\") )\n",
        "print(\"猜中了!!!\")\n"
      ]
    },
    {
      "cell_type": "code",
      "source": [
        "#每次都要跟電腦猜拳決定誰猜數字\n",
        "import random\n",
        "bomb=random.randint(1,99)\n",
        "#左右邊界設定\n",
        "left=0\n",
        "right=100\n",
        "print(\"範圍:\",left,\"-\",right)\n",
        "#先猜拳決定誰猜\n",
        "while True:\n",
        "  print(\"猜拳決定誰猜\")\n",
        "  computer=random.choice([\"剪刀\",\"石頭\",\"布\"])\n",
        "  player=input(\"請輸入你要出甚麼(剪刀/石頭/布):\")\n",
        "  while player==computer:\n",
        "    print(\"平手\")\n",
        "    player=input(\"再猜一次(剪刀/石頭/布):\")\n",
        "    computer=random.choice([\"剪刀\",\"石頭\",\"布\"])\n",
        "  if (computer==\"剪刀\" and player==\"石頭\") or (computer==\"石頭\" and player==\"布\") or (computer==\"布\" and player==\"剪刀\"):\n",
        "    print(\"電腦出:\",computer)\n",
        "    print(\"你贏了，你猜\")\n",
        "    print(\"範圍:\",left,\"-\",right)\n",
        "    playerguess=int( input(\"請輸入你的猜測:\") )\n",
        "    if playerguess<left or playerguess>right:\n",
        "      print(\"超出邊界，再猜拳一次\")\n",
        "    elif playerguess<bomb:\n",
        "      left=playerguess\n",
        "      print(\"新的邊界:\",left,\"～\",right,\"再猜拳一次\")\n",
        "    elif playerguess==bomb:\n",
        "      print(\"你猜中了，答案是\",playerguess)\n",
        "      break\n",
        "    else:\n",
        "      right=playerguess\n",
        "      if playerguess!=bomb:\n",
        "        print(\"新的邊界:\",left,\"～\",right,\"再猜拳一次\")\n",
        "  else:\n",
        "    print(\"電腦出:\",computer)\n",
        "    computerguess=random.randint(left,right)\n",
        "    print(\"電腦猜:\",computerguess)\n",
        "    if computerguess<bomb:\n",
        "      left=computerguess\n",
        "      print(\"新的邊界:\",left,\"～\",right,\"再猜拳一次\")\n",
        "    elif computerguess==bomb:\n",
        "      print(\"電腦猜中了，答案是\",computerguess)\n",
        "      break\n",
        "    else:\n",
        "      right=computerguess\n",
        "      if computerguess!=bomb:\n",
        "        print(\"新的邊界:\",left,\"～\",right,\"再猜拳一次\")\n",
        "\n"
      ],
      "metadata": {
        "colab": {
          "base_uri": "https://localhost:8080/"
        },
        "id": "gF3asPiI-heb",
        "outputId": "0d73a5bd-422b-4c0c-c23c-6a87db55c9fe"
      },
      "execution_count": 3,
      "outputs": [
        {
          "output_type": "stream",
          "name": "stdout",
          "text": [
            "範圍: 0 - 100\n",
            "猜拳決定誰猜\n",
            "請輸入你要出甚麼(剪刀/石頭/布):布\n",
            "電腦出: 石頭\n",
            "你贏了，你猜\n",
            "範圍: 0 - 100\n",
            "請輸入你的猜測:23\n",
            "新的邊界: 23 ～ 100 再猜拳一次\n",
            "猜拳決定誰猜\n",
            "請輸入你要出甚麼(剪刀/石頭/布):布\n",
            "平手\n",
            "再猜一次(剪刀/石頭/布):布\n",
            "平手\n",
            "再猜一次(剪刀/石頭/布):布\n",
            "平手\n",
            "再猜一次(剪刀/石頭/布):布\n",
            "平手\n",
            "再猜一次(剪刀/石頭/布):布\n",
            "電腦出: 剪刀\n",
            "電腦猜: 90\n",
            "電腦猜中了，答案是 90\n"
          ]
        }
      ]
    }
  ]
}