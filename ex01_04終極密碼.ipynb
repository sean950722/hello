{
  "nbformat": 4,
  "nbformat_minor": 0,
  "metadata": {
    "colab": {
      "provenance": [],
      "authorship_tag": "ABX9TyObwQ4Rw3nT45Fb3Nc9nEi0",
      "include_colab_link": true
    },
    "kernelspec": {
      "name": "python3",
      "display_name": "Python 3"
    },
    "language_info": {
      "name": "python"
    }
  },
  "cells": [
    {
      "cell_type": "markdown",
      "metadata": {
        "id": "view-in-github",
        "colab_type": "text"
      },
      "source": [
        "<a href=\"https://colab.research.google.com/github/sean950722/hello/blob/main/ex01_04%E7%B5%82%E6%A5%B5%E5%AF%86%E7%A2%BC.ipynb\" target=\"_parent\"><img src=\"https://colab.research.google.com/assets/colab-badge.svg\" alt=\"Open In Colab\"/></a>"
      ]
    },
    {
      "cell_type": "code",
      "execution_count": 21,
      "metadata": {
        "colab": {
          "base_uri": "https://localhost:8080/"
        },
        "id": "20-fds7dxRun",
        "outputId": "cd3c3ae8-6e19-4e24-e5a4-3989fd88ad1f"
      },
      "outputs": [
        {
          "output_type": "stream",
          "name": "stdout",
          "text": [
            "請輸入你的猜測:50\n",
            "新的邊界: 0 ～ 50\n",
            "請輸入你的猜測:40\n",
            "新的邊界: 0 ～ 40\n",
            "請輸入你的猜測:30\n",
            "新的邊界: 0 ～ 30\n",
            "請輸入你的猜測:20\n",
            "新的邊界: 0 ～ 20\n",
            "請輸入你的猜測:10\n",
            "新的邊界: 0 ～ 10\n",
            "請輸入你的猜測:5\n",
            "新的邊界: 0 ～ 5\n",
            "請輸入你的猜測:3\n",
            "新的邊界: 3 ～ 5\n",
            "請輸入你的猜測:4\n",
            "猜中了!!!\n"
          ]
        }
      ],
      "source": [
        "\\import random\n",
        "bomb=random.randint(1,99)\n",
        "#左右邊界設定\n",
        "left=0\n",
        "right=100\n",
        "player=int( input(\"請輸入你的猜測:\") )\n",
        "while(player!=bomb):\n",
        "  if player<left or player>right:\n",
        "    print(\"超出邊界\")\n",
        "    player=int( input(\"請輸入你的猜測:\") )\n",
        "  elif player<bomb:\n",
        "    left=player\n",
        "    print(\"新的邊界:\",left,\"～\",right)\n",
        "    player=int( input(\"請輸入你的猜測:\") )\n",
        "  else:\n",
        "    right=player\n",
        "    print(\"新的邊界:\",left,\"～\",right)\n",
        "    player=int( input(\"請輸入你的猜測:\") )\n",
        "print(\"猜中了!!!\")\n"
      ]
    },
    {
      "cell_type": "code",
      "source": [
        "#每次都要跟電腦猜拳決定誰猜數字\n",
        "import random\n",
        "bomb=random.randint(1,99)\n",
        "#左右邊界設定\n",
        "left=0\n",
        "right=100\n",
        "print(\"範圍:\",left,\"-\",right)\n",
        "#先猜拳決定誰猜\n",
        "while True:\n",
        "  print(\"猜拳決定誰猜\")\n",
        "  computer=random.choice([\"剪刀\",\"石頭\",\"布\"])\n",
        "  player=input(\"請輸入你要出甚麼(剪刀/石頭/布):\")\n",
        "  while player==computer:\n",
        "    print(\"平手\")\n",
        "    player=input(\"再猜一次(剪刀/石頭/布):\")\n",
        "    computer=random.choice([\"剪刀\",\"石頭\",\"布\"])\n",
        "  if (computer==\"剪刀\" and player==\"石頭\") or (computer==\"石頭\" and player==\"布\") or (computer==\"布\" and player==\"剪刀\"):\n",
        "    print(\"電腦出:\",computer)\n",
        "    print(\"你贏了，你猜\")\n",
        "    print(\"範圍:\",left,\"-\",right)\n",
        "    playerguess=int( input(\"請輸入你的猜測:\") )\n",
        "    if playerguess<left or playerguess>right:\n",
        "      print(\"超出邊界，再猜拳一次\")\n",
        "    elif playerguess<bomb:\n",
        "      left=playerguess\n",
        "      print(\"新的邊界:\",left,\"～\",right,\"再猜拳一次\")\n",
        "    else:\n",
        "      right=playerguess\n",
        "      if playerguess!=bomb:\n",
        "        print(\"新的邊界:\",left,\"～\",right,\"再猜拳一次\")\n",
        "  else:\n",
        "    print(\"電腦出:\",computer)\n",
        "    computerguess=random.randint(left,right)\n",
        "    print(\"電腦猜:\",computerguess)\n",
        "    if computerguess<bomb:\n",
        "      left=computerguess\n",
        "      print(\"新的邊界:\",left,\"～\",right,\"再猜拳一次\")\n",
        "    else:\n",
        "      right=computerguess\n",
        "      if computerguess!=bomb:\n",
        "        print(\"新的邊界:\",left,\"～\",right,\"再猜拳一次\")\n",
        "  if playerguess==bomb:\n",
        "    print(\"你猜中了，答案是\",playerguess)\n",
        "    break\n",
        "  elif computerguess==bomb:\n",
        "    print(\"電腦猜中了，答案是\",computerguess)\n",
        "    break\n",
        "\n"
      ],
      "metadata": {
        "colab": {
          "base_uri": "https://localhost:8080/"
        },
        "id": "gF3asPiI-heb",
        "outputId": "205e16a2-5b93-44ae-c780-da9f5734dd36"
      },
      "execution_count": 22,
      "outputs": [
        {
          "output_type": "stream",
          "name": "stdout",
          "text": [
            "範圍: 0 - 100\n",
            "猜拳決定誰猜\n",
            "請輸入你要出甚麼(剪刀/石頭/布):剪刀\n",
            "平手\n",
            "再猜一次(剪刀/石頭/布):剪刀\n",
            "電腦出: 石頭\n",
            "電腦猜: 29\n",
            "新的邊界: 29 ～ 100 再猜拳一次\n",
            "猜拳決定誰猜\n",
            "請輸入你要出甚麼(剪刀/石頭/布):布\n",
            "平手\n",
            "再猜一次(剪刀/石頭/布):布\n",
            "電腦出: 剪刀\n",
            "電腦猜: 60\n",
            "新的邊界: 60 ～ 100 再猜拳一次\n",
            "猜拳決定誰猜\n",
            "請輸入你要出甚麼(剪刀/石頭/布):布\n",
            "電腦出: 剪刀\n",
            "電腦猜: 73\n",
            "新的邊界: 73 ～ 100 再猜拳一次\n",
            "猜拳決定誰猜\n",
            "請輸入你要出甚麼(剪刀/石頭/布):布\n",
            "電腦出: 剪刀\n",
            "電腦猜: 84\n",
            "新的邊界: 73 ～ 84 再猜拳一次\n",
            "猜拳決定誰猜\n",
            "請輸入你要出甚麼(剪刀/石頭/布):布\n",
            "電腦出: 石頭\n",
            "你贏了，你猜\n",
            "範圍: 73 - 84\n",
            "請輸入你的猜測:75\n",
            "你猜中了，答案是 75\n"
          ]
        }
      ]
    }
  ]
}