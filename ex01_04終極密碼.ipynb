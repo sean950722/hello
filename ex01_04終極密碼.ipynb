{
  "nbformat": 4,
  "nbformat_minor": 0,
  "metadata": {
    "colab": {
      "provenance": [],
      "authorship_tag": "ABX9TyMaSbDyGuXnunBvJ8hbkivr",
      "include_colab_link": true
    },
    "kernelspec": {
      "name": "python3",
      "display_name": "Python 3"
    },
    "language_info": {
      "name": "python"
    }
  },
  "cells": [
    {
      "cell_type": "markdown",
      "metadata": {
        "id": "view-in-github",
        "colab_type": "text"
      },
      "source": [
        "<a href=\"https://colab.research.google.com/github/sean950722/hello/blob/main/ex01_04%E7%B5%82%E6%A5%B5%E5%AF%86%E7%A2%BC.ipynb\" target=\"_parent\"><img src=\"https://colab.research.google.com/assets/colab-badge.svg\" alt=\"Open In Colab\"/></a>"
      ]
    },
    {
      "cell_type": "code",
      "execution_count": 1,
      "metadata": {
        "colab": {
          "base_uri": "https://localhost:8080/"
        },
        "id": "20-fds7dxRun",
        "outputId": "e03b08f6-07f5-4cd5-aa5c-ee0faa058de7"
      },
      "outputs": [
        {
          "output_type": "stream",
          "name": "stdout",
          "text": [
            "請輸入你的猜測:50\n",
            "新的邊界: 50 ～ 100\n",
            "請輸入你的猜測:60\n",
            "新的邊界: 60 ～ 100\n",
            "請輸入你的猜測:80\n",
            "新的邊界: 80 ～ 100\n",
            "請輸入你的猜測:90\n",
            "新的邊界: 80 ～ 90\n",
            "請輸入你的猜測:85\n",
            "猜中了!!!\n"
          ]
        }
      ],
      "source": [
        "import random\n",
        "bomb=random.randint(1,99)\n",
        "#左右邊界設定\n",
        "left=0\n",
        "right=100\n",
        "player=int( input(\"請輸入你的猜測:\") )\n",
        "while(player!=bomb):\n",
        "  if player<left or player>right:\n",
        "    print(\"超出邊界\")\n",
        "    player=int( input(\"請輸入你的猜測:\") )\n",
        "  elif player<bomb:\n",
        "    left=player\n",
        "    print(\"新的邊界:\",left,\"～\",right)\n",
        "    player=int( input(\"請輸入你的猜測:\") )\n",
        "  else:\n",
        "    right=player\n",
        "    print(\"新的邊界:\",left,\"～\",right)\n",
        "    player=int( input(\"請輸入你的猜測:\") )\n",
        "print(\"猜中了!!!\")\n"
      ]
    }
  ]
}