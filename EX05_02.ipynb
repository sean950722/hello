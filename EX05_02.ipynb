{
  "nbformat": 4,
  "nbformat_minor": 0,
  "metadata": {
    "colab": {
      "provenance": [],
      "authorship_tag": "ABX9TyMxIeNCc4YWoIGowHur8cSa",
      "include_colab_link": true
    },
    "kernelspec": {
      "name": "python3",
      "display_name": "Python 3"
    },
    "language_info": {
      "name": "python"
    }
  },
  "cells": [
    {
      "cell_type": "markdown",
      "metadata": {
        "id": "view-in-github",
        "colab_type": "text"
      },
      "source": [
        "<a href=\"https://colab.research.google.com/github/sean950722/hello/blob/main/EX05_02.ipynb\" target=\"_parent\"><img src=\"https://colab.research.google.com/assets/colab-badge.svg\" alt=\"Open In Colab\"/></a>"
      ]
    },
    {
      "cell_type": "code",
      "source": [
        "!pip install -q flask pyngrok flask_ngrok line-bot-sdk"
      ],
      "metadata": {
        "colab": {
          "base_uri": "https://localhost:8080/"
        },
        "id": "G18Hv3LL6IYA",
        "outputId": "67c076d3-2b86-4258-b876-fac36c3e8948"
      },
      "execution_count": null,
      "outputs": [
        {
          "output_type": "stream",
          "name": "stdout",
          "text": [
            "\u001b[?25l   \u001b[90m━━━━━━━━━━━━━━━━━━━━━━━━━━━━━━━━━━━━━━━━\u001b[0m \u001b[32m0.0/776.1 kB\u001b[0m \u001b[31m?\u001b[0m eta \u001b[36m-:--:--\u001b[0m\r\u001b[2K   \u001b[91m━━━━━━━━━━━━━━━━━━━━━━━━━━━━━━━━━━━━━━\u001b[0m\u001b[90m╺\u001b[0m\u001b[90m━\u001b[0m \u001b[32m737.3/776.1 kB\u001b[0m \u001b[31m22.0 MB/s\u001b[0m eta \u001b[36m0:00:01\u001b[0m\r\u001b[2K   \u001b[90m━━━━━━━━━━━━━━━━━━━━━━━━━━━━━━━━━━━━━━━━\u001b[0m \u001b[32m776.1/776.1 kB\u001b[0m \u001b[31m14.2 MB/s\u001b[0m eta \u001b[36m0:00:00\u001b[0m\n",
            "\u001b[?25h\u001b[?25l   \u001b[90m━━━━━━━━━━━━━━━━━━━━━━━━━━━━━━━━━━━━━━━━\u001b[0m \u001b[32m0.0/165.6 kB\u001b[0m \u001b[31m?\u001b[0m eta \u001b[36m-:--:--\u001b[0m\r\u001b[2K   \u001b[90m━━━━━━━━━━━━━━━━━━━━━━━━━━━━━━━━━━━━━━━━\u001b[0m \u001b[32m165.6/165.6 kB\u001b[0m \u001b[31m12.8 MB/s\u001b[0m eta \u001b[36m0:00:00\u001b[0m\n",
            "\u001b[?25h"
          ]
        }
      ]
    },
    {
      "cell_type": "code",
      "execution_count": null,
      "metadata": {
        "colab": {
          "base_uri": "https://localhost:8080/"
        },
        "id": "GwwmN1_r3lVi",
        "outputId": "2b7ff235-cdd2-41c0-814f-c522c807906e"
      },
      "outputs": [
        {
          "output_type": "stream",
          "name": "stdout",
          "text": [
            " * Serving Flask app '__main__'\n",
            " * Debug mode: off\n"
          ]
        },
        {
          "output_type": "stream",
          "name": "stderr",
          "text": [
            "INFO:werkzeug:\u001b[31m\u001b[1mWARNING: This is a development server. Do not use it in a production deployment. Use a production WSGI server instead.\u001b[0m\n",
            " * Running on http://127.0.0.1:5000\n",
            "INFO:werkzeug:\u001b[33mPress CTRL+C to quit\u001b[0m\n"
          ]
        },
        {
          "output_type": "stream",
          "name": "stdout",
          "text": [
            " * Running on http://adf6-35-238-88-158.ngrok-free.app\n",
            " * Traffic stats available on http://127.0.0.1:4040\n"
          ]
        }
      ],
      "source": [
        "# for colab\n",
        "from google.colab import userdata\n",
        "from pyngrok import ngrok\n",
        "from flask_ngrok import run_with_ngrok\n",
        "def ngrok_start():\n",
        "  ngrok.set_auth_token(userdata.get('NGROK_AUTHTOKEN'))\n",
        "  ngrok.connect(5000)\n",
        "  run_with_ngrok(app)\n",
        "\n",
        "\n",
        "from flask import Flask, request, abort\n",
        "from linebot.v3 import WebhookHandler\n",
        "from linebot.v3.exceptions import InvalidSignatureError\n",
        "from linebot.v3.webhooks import MessageEvent, TextMessageContent\n",
        "from linebot.v3.messaging import(\n",
        "    Configuration,\n",
        "    ApiClient,\n",
        "    MessagingApi,\n",
        "    ReplyMessageRequest,\n",
        "    TextMessage\n",
        ")\n",
        "\n",
        "app = Flask(__name__)\n",
        "\n",
        "configuration = Configuration(access_token='LINE_CHANNEL_ACCESS_TOKEN')\n",
        "handler = WebhookHandler('LINE_CHANNEL_SECRET')\n",
        "\n",
        "\n",
        "@app.route(\"/callback\", methods=['POST'])\n",
        "def callback():\n",
        "    signature = request.headers['X-Line-Signature']\n",
        "    body = request.get_data(as_text=True)\n",
        "\n",
        "    try:\n",
        "        handler.handle(body, signature)\n",
        "    except InvalidSignatureError:\n",
        "        abort(400)\n",
        "    return 'OK'\n",
        "\n",
        "import google.generativeai as genai\n",
        "genai.configure(api_key=userdata.get('GOOGLE_API_KEY'))\n",
        "model = genai.GenerativeModel(\"gemini-2.0-flash\")\n",
        "def ask_gemini(question):\n",
        "  response = model.generate_content(question)\n",
        "  return response.text\n",
        "\n",
        "\n",
        "@handler.add(MessageEvent, message=TextMessageContent)\n",
        "def handle_message(event):\n",
        "    with ApiClient(configuration) as api_client:\n",
        "        line_bot_api = MessagingApi(api_client)\n",
        "        response = ask_gemini(event.message.text)\n",
        "        line_bot_api.reply_message(\n",
        "            ReplyMessageRequest(\n",
        "                reply_token=event.reply_token,\n",
        "                messages=[TextMessage(text=response)]\n",
        "            )\n",
        "        )\n",
        "\n",
        "ngrok_start() # for colab\n",
        "if __name__ == \"__main__\":\n",
        "  app.run()"
      ]
    }
  ]
}